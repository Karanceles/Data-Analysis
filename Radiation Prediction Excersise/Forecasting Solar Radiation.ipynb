{
 "cells": [
  {
   "cell_type": "markdown",
   "metadata": {},
   "source": [
    "Forecasting Solar Radiation (Using Optuna & XGBoost)\n",
    "\n",
    "In this regard, the building of a prediction model will be made out through this 2 frameworks.\n",
    "The model itslef will be able to predict radiation patterns through a previous NASA dataset. In this case, we deliberatedly ignored the 'unix time stamp'. It could be useful if our data set needs a timestamp (Past Radiation data with an especifically time for a certain measure that needs to be the most accurate possible in a determined instant in future)."
   ]
  },
  {
   "cell_type": "code",
   "execution_count": 29,
   "metadata": {},
   "outputs": [],
   "source": [
    "import numpy as np\n",
    "import pandas as pd\n",
    "import re ## REGULAR EXPRESIONS, truly needed when working with non-aligned data, so we can recall certain branches of them all that we can characterize/parametrize (EX: 1~12 / 1~31, mm-dd-yy)\n",
    "\n",
    "from sklearn.preprocessing import StandardScaler ## removes the mean and scales each feature/variable to unit variance\n",
    "from sklearn.model_selection import train_test_split ## dividing datasets into training and testing subsets (management of data)\n",
    "\n",
    "import optuna ## automating the optimization process of hyperparameters (HPs) // automatically searches and finds the optimal HPs\n",
    "import xgboost as xgb ## XGBoost algorithm // used for lecture optimization in cases of vastly raw data, improving the code reading\n",
    "\n",
    "from sklearn.metrics import r2_score ## coefficient of determination (REGRESSION SCORE f(x))"
   ]
  },
  {
   "cell_type": "code",
   "execution_count": 30,
   "metadata": {},
   "outputs": [
    {
     "data": {
      "text/html": [
       "<div>\n",
       "<style scoped>\n",
       "    .dataframe tbody tr th:only-of-type {\n",
       "        vertical-align: middle;\n",
       "    }\n",
       "\n",
       "    .dataframe tbody tr th {\n",
       "        vertical-align: top;\n",
       "    }\n",
       "\n",
       "    .dataframe thead th {\n",
       "        text-align: right;\n",
       "    }\n",
       "</style>\n",
       "<table border=\"1\" class=\"dataframe\">\n",
       "  <thead>\n",
       "    <tr style=\"text-align: right;\">\n",
       "      <th></th>\n",
       "      <th>UNIXTime</th>\n",
       "      <th>Data</th>\n",
       "      <th>Time</th>\n",
       "      <th>Radiation</th>\n",
       "      <th>Temperature</th>\n",
       "      <th>Pressure</th>\n",
       "      <th>Humidity</th>\n",
       "      <th>WindDirection(Degrees)</th>\n",
       "      <th>Speed</th>\n",
       "      <th>TimeSunRise</th>\n",
       "      <th>TimeSunSet</th>\n",
       "    </tr>\n",
       "  </thead>\n",
       "  <tbody>\n",
       "    <tr>\n",
       "      <th>0</th>\n",
       "      <td>1475229326</td>\n",
       "      <td>9/29/2016 12:00:00 AM</td>\n",
       "      <td>23:55:26</td>\n",
       "      <td>1.21</td>\n",
       "      <td>48</td>\n",
       "      <td>30.46</td>\n",
       "      <td>59</td>\n",
       "      <td>177.39</td>\n",
       "      <td>5.62</td>\n",
       "      <td>06:13:00</td>\n",
       "      <td>18:13:00</td>\n",
       "    </tr>\n",
       "    <tr>\n",
       "      <th>1</th>\n",
       "      <td>1475229023</td>\n",
       "      <td>9/29/2016 12:00:00 AM</td>\n",
       "      <td>23:50:23</td>\n",
       "      <td>1.21</td>\n",
       "      <td>48</td>\n",
       "      <td>30.46</td>\n",
       "      <td>58</td>\n",
       "      <td>176.78</td>\n",
       "      <td>3.37</td>\n",
       "      <td>06:13:00</td>\n",
       "      <td>18:13:00</td>\n",
       "    </tr>\n",
       "    <tr>\n",
       "      <th>2</th>\n",
       "      <td>1475228726</td>\n",
       "      <td>9/29/2016 12:00:00 AM</td>\n",
       "      <td>23:45:26</td>\n",
       "      <td>1.23</td>\n",
       "      <td>48</td>\n",
       "      <td>30.46</td>\n",
       "      <td>57</td>\n",
       "      <td>158.75</td>\n",
       "      <td>3.37</td>\n",
       "      <td>06:13:00</td>\n",
       "      <td>18:13:00</td>\n",
       "    </tr>\n",
       "    <tr>\n",
       "      <th>3</th>\n",
       "      <td>1475228421</td>\n",
       "      <td>9/29/2016 12:00:00 AM</td>\n",
       "      <td>23:40:21</td>\n",
       "      <td>1.21</td>\n",
       "      <td>48</td>\n",
       "      <td>30.46</td>\n",
       "      <td>60</td>\n",
       "      <td>137.71</td>\n",
       "      <td>3.37</td>\n",
       "      <td>06:13:00</td>\n",
       "      <td>18:13:00</td>\n",
       "    </tr>\n",
       "    <tr>\n",
       "      <th>4</th>\n",
       "      <td>1475228124</td>\n",
       "      <td>9/29/2016 12:00:00 AM</td>\n",
       "      <td>23:35:24</td>\n",
       "      <td>1.17</td>\n",
       "      <td>48</td>\n",
       "      <td>30.46</td>\n",
       "      <td>62</td>\n",
       "      <td>104.95</td>\n",
       "      <td>5.62</td>\n",
       "      <td>06:13:00</td>\n",
       "      <td>18:13:00</td>\n",
       "    </tr>\n",
       "    <tr>\n",
       "      <th>...</th>\n",
       "      <td>...</td>\n",
       "      <td>...</td>\n",
       "      <td>...</td>\n",
       "      <td>...</td>\n",
       "      <td>...</td>\n",
       "      <td>...</td>\n",
       "      <td>...</td>\n",
       "      <td>...</td>\n",
       "      <td>...</td>\n",
       "      <td>...</td>\n",
       "      <td>...</td>\n",
       "    </tr>\n",
       "    <tr>\n",
       "      <th>32681</th>\n",
       "      <td>1480587604</td>\n",
       "      <td>12/1/2016 12:00:00 AM</td>\n",
       "      <td>00:20:04</td>\n",
       "      <td>1.22</td>\n",
       "      <td>44</td>\n",
       "      <td>30.43</td>\n",
       "      <td>102</td>\n",
       "      <td>145.42</td>\n",
       "      <td>6.75</td>\n",
       "      <td>06:41:00</td>\n",
       "      <td>17:42:00</td>\n",
       "    </tr>\n",
       "    <tr>\n",
       "      <th>32682</th>\n",
       "      <td>1480587301</td>\n",
       "      <td>12/1/2016 12:00:00 AM</td>\n",
       "      <td>00:15:01</td>\n",
       "      <td>1.17</td>\n",
       "      <td>44</td>\n",
       "      <td>30.42</td>\n",
       "      <td>102</td>\n",
       "      <td>117.78</td>\n",
       "      <td>6.75</td>\n",
       "      <td>06:41:00</td>\n",
       "      <td>17:42:00</td>\n",
       "    </tr>\n",
       "    <tr>\n",
       "      <th>32683</th>\n",
       "      <td>1480587001</td>\n",
       "      <td>12/1/2016 12:00:00 AM</td>\n",
       "      <td>00:10:01</td>\n",
       "      <td>1.20</td>\n",
       "      <td>44</td>\n",
       "      <td>30.42</td>\n",
       "      <td>102</td>\n",
       "      <td>145.19</td>\n",
       "      <td>9.00</td>\n",
       "      <td>06:41:00</td>\n",
       "      <td>17:42:00</td>\n",
       "    </tr>\n",
       "    <tr>\n",
       "      <th>32684</th>\n",
       "      <td>1480586702</td>\n",
       "      <td>12/1/2016 12:00:00 AM</td>\n",
       "      <td>00:05:02</td>\n",
       "      <td>1.23</td>\n",
       "      <td>44</td>\n",
       "      <td>30.42</td>\n",
       "      <td>101</td>\n",
       "      <td>164.19</td>\n",
       "      <td>7.87</td>\n",
       "      <td>06:41:00</td>\n",
       "      <td>17:42:00</td>\n",
       "    </tr>\n",
       "    <tr>\n",
       "      <th>32685</th>\n",
       "      <td>1480586402</td>\n",
       "      <td>12/1/2016 12:00:00 AM</td>\n",
       "      <td>00:00:02</td>\n",
       "      <td>1.20</td>\n",
       "      <td>44</td>\n",
       "      <td>30.43</td>\n",
       "      <td>101</td>\n",
       "      <td>83.59</td>\n",
       "      <td>3.37</td>\n",
       "      <td>06:41:00</td>\n",
       "      <td>17:42:00</td>\n",
       "    </tr>\n",
       "  </tbody>\n",
       "</table>\n",
       "<p>32686 rows × 11 columns</p>\n",
       "</div>"
      ],
      "text/plain": [
       "         UNIXTime                   Data      Time  Radiation  Temperature  \\\n",
       "0      1475229326  9/29/2016 12:00:00 AM  23:55:26       1.21           48   \n",
       "1      1475229023  9/29/2016 12:00:00 AM  23:50:23       1.21           48   \n",
       "2      1475228726  9/29/2016 12:00:00 AM  23:45:26       1.23           48   \n",
       "3      1475228421  9/29/2016 12:00:00 AM  23:40:21       1.21           48   \n",
       "4      1475228124  9/29/2016 12:00:00 AM  23:35:24       1.17           48   \n",
       "...           ...                    ...       ...        ...          ...   \n",
       "32681  1480587604  12/1/2016 12:00:00 AM  00:20:04       1.22           44   \n",
       "32682  1480587301  12/1/2016 12:00:00 AM  00:15:01       1.17           44   \n",
       "32683  1480587001  12/1/2016 12:00:00 AM  00:10:01       1.20           44   \n",
       "32684  1480586702  12/1/2016 12:00:00 AM  00:05:02       1.23           44   \n",
       "32685  1480586402  12/1/2016 12:00:00 AM  00:00:02       1.20           44   \n",
       "\n",
       "       Pressure  Humidity  WindDirection(Degrees)  Speed TimeSunRise  \\\n",
       "0         30.46        59                  177.39   5.62    06:13:00   \n",
       "1         30.46        58                  176.78   3.37    06:13:00   \n",
       "2         30.46        57                  158.75   3.37    06:13:00   \n",
       "3         30.46        60                  137.71   3.37    06:13:00   \n",
       "4         30.46        62                  104.95   5.62    06:13:00   \n",
       "...         ...       ...                     ...    ...         ...   \n",
       "32681     30.43       102                  145.42   6.75    06:41:00   \n",
       "32682     30.42       102                  117.78   6.75    06:41:00   \n",
       "32683     30.42       102                  145.19   9.00    06:41:00   \n",
       "32684     30.42       101                  164.19   7.87    06:41:00   \n",
       "32685     30.43       101                   83.59   3.37    06:41:00   \n",
       "\n",
       "      TimeSunSet  \n",
       "0       18:13:00  \n",
       "1       18:13:00  \n",
       "2       18:13:00  \n",
       "3       18:13:00  \n",
       "4       18:13:00  \n",
       "...          ...  \n",
       "32681   17:42:00  \n",
       "32682   17:42:00  \n",
       "32683   17:42:00  \n",
       "32684   17:42:00  \n",
       "32685   17:42:00  \n",
       "\n",
       "[32686 rows x 11 columns]"
      ]
     },
     "execution_count": 30,
     "metadata": {},
     "output_type": "execute_result"
    }
   ],
   "source": [
    "data = pd.read_csv('SolarPrediction.csv')\n",
    "data"
   ]
  },
  {
   "cell_type": "code",
   "execution_count": 31,
   "metadata": {},
   "outputs": [
    {
     "name": "stdout",
     "output_type": "stream",
     "text": [
      "<class 'pandas.core.frame.DataFrame'>\n",
      "RangeIndex: 32686 entries, 0 to 32685\n",
      "Data columns (total 11 columns):\n",
      " #   Column                  Non-Null Count  Dtype  \n",
      "---  ------                  --------------  -----  \n",
      " 0   UNIXTime                32686 non-null  int64  \n",
      " 1   Data                    32686 non-null  object \n",
      " 2   Time                    32686 non-null  object \n",
      " 3   Radiation               32686 non-null  float64\n",
      " 4   Temperature             32686 non-null  int64  \n",
      " 5   Pressure                32686 non-null  float64\n",
      " 6   Humidity                32686 non-null  int64  \n",
      " 7   WindDirection(Degrees)  32686 non-null  float64\n",
      " 8   Speed                   32686 non-null  float64\n",
      " 9   TimeSunRise             32686 non-null  object \n",
      " 10  TimeSunSet              32686 non-null  object \n",
      "dtypes: float64(4), int64(3), object(4)\n",
      "memory usage: 2.7+ MB\n"
     ]
    }
   ],
   "source": [
    "data.info()"
   ]
  },
  {
   "cell_type": "markdown",
   "metadata": {},
   "source": [
    "Feature Engineering (REARRANGEMENT OF DATA)"
   ]
  },
  {
   "cell_type": "code",
   "execution_count": 32,
   "metadata": {},
   "outputs": [
    {
     "name": "stdout",
     "output_type": "stream",
     "text": [
      "Total Missing Values: 0\n"
     ]
    }
   ],
   "source": [
    "print(\"Total Missing Values:\", data.isna().sum().sum()) ## so the code itself will be able to report us about missing data, in booth columns and rows"
   ]
  },
  {
   "cell_type": "code",
   "execution_count": 33,
   "metadata": {},
   "outputs": [],
   "source": [
    "# so, no errors or missing values, nor columns neither rows\n",
    "data['Month'] = data['Data'].apply(lambda x: re.search(r'^\\d+', x).group(0)).astype(int)\n",
    "data['Day'] = data['Data'].apply(lambda x: re.search(r'(?<=\\/)\\d+(?=\\/)', x).group(0)).astype(int) ## LOOKAHEAD & LOOKBEHIND\n",
    "data['Year'] = data['Data'].apply(lambda x: re.search(r'(?<=\\/)\\d+(?=\\s)', x).group(0)).astype(int) ## Catching WHITE SPACE ---> WE DONT NEED IT... DROPING IT OUT, LOOK DOWN ON THE CODE\n",
    "## astype(np.int) for homogenizing (from str to int)\n",
    "\n",
    "# Now that we have date as separately functions, we can drop it from the data table\n",
    "# don't worry about droping time, 'cause every data has been measured at 12 AM\n",
    "data = data.drop('Data', axis=1) # axis 0/1 == index/columns"
   ]
  },
  {
   "cell_type": "code",
   "execution_count": 34,
   "metadata": {},
   "outputs": [],
   "source": [
    "data['Hour'] = data['Time'].apply(lambda x: re.search(r'^\\d+', x).group(0)).astype(int)\n",
    "data['Minute'] = data['Time'].apply(lambda x: re.search(r'(?<=\\:)\\d+(?=\\:)', x).group(0)).astype(int) ## LOOKAHEAD & LOOKBEHIND\n",
    "data['Second'] = data['Time'].apply(lambda x: re.search(r'\\d+$', x).group(0)).astype(int) ## Catche WHITE SPACE\n",
    "data = data.drop('Time', axis =1)\n",
    "## just if we want, we can add time as columns again, but separately\n",
    "## instead Hour == data['Hour']"
   ]
  },
  {
   "cell_type": "code",
   "execution_count": 35,
   "metadata": {},
   "outputs": [
    {
     "data": {
      "text/html": [
       "<div>\n",
       "<style scoped>\n",
       "    .dataframe tbody tr th:only-of-type {\n",
       "        vertical-align: middle;\n",
       "    }\n",
       "\n",
       "    .dataframe tbody tr th {\n",
       "        vertical-align: top;\n",
       "    }\n",
       "\n",
       "    .dataframe thead th {\n",
       "        text-align: right;\n",
       "    }\n",
       "</style>\n",
       "<table border=\"1\" class=\"dataframe\">\n",
       "  <thead>\n",
       "    <tr style=\"text-align: right;\">\n",
       "      <th></th>\n",
       "      <th>UNIXTime</th>\n",
       "      <th>Radiation</th>\n",
       "      <th>Temperature</th>\n",
       "      <th>Pressure</th>\n",
       "      <th>Humidity</th>\n",
       "      <th>WindDirection(Degrees)</th>\n",
       "      <th>Speed</th>\n",
       "      <th>Month</th>\n",
       "      <th>Day</th>\n",
       "      <th>Year</th>\n",
       "      <th>Hour</th>\n",
       "      <th>Minute</th>\n",
       "      <th>Second</th>\n",
       "      <th>SunriseHour</th>\n",
       "      <th>SunriseMinute</th>\n",
       "      <th>SunsetHour</th>\n",
       "      <th>SunsetMinute</th>\n",
       "    </tr>\n",
       "  </thead>\n",
       "  <tbody>\n",
       "    <tr>\n",
       "      <th>0</th>\n",
       "      <td>1475229326</td>\n",
       "      <td>1.21</td>\n",
       "      <td>48</td>\n",
       "      <td>30.46</td>\n",
       "      <td>59</td>\n",
       "      <td>177.39</td>\n",
       "      <td>5.62</td>\n",
       "      <td>9</td>\n",
       "      <td>29</td>\n",
       "      <td>2016</td>\n",
       "      <td>23</td>\n",
       "      <td>55</td>\n",
       "      <td>26</td>\n",
       "      <td>6</td>\n",
       "      <td>13</td>\n",
       "      <td>18</td>\n",
       "      <td>13</td>\n",
       "    </tr>\n",
       "    <tr>\n",
       "      <th>1</th>\n",
       "      <td>1475229023</td>\n",
       "      <td>1.21</td>\n",
       "      <td>48</td>\n",
       "      <td>30.46</td>\n",
       "      <td>58</td>\n",
       "      <td>176.78</td>\n",
       "      <td>3.37</td>\n",
       "      <td>9</td>\n",
       "      <td>29</td>\n",
       "      <td>2016</td>\n",
       "      <td>23</td>\n",
       "      <td>50</td>\n",
       "      <td>23</td>\n",
       "      <td>6</td>\n",
       "      <td>13</td>\n",
       "      <td>18</td>\n",
       "      <td>13</td>\n",
       "    </tr>\n",
       "    <tr>\n",
       "      <th>2</th>\n",
       "      <td>1475228726</td>\n",
       "      <td>1.23</td>\n",
       "      <td>48</td>\n",
       "      <td>30.46</td>\n",
       "      <td>57</td>\n",
       "      <td>158.75</td>\n",
       "      <td>3.37</td>\n",
       "      <td>9</td>\n",
       "      <td>29</td>\n",
       "      <td>2016</td>\n",
       "      <td>23</td>\n",
       "      <td>45</td>\n",
       "      <td>26</td>\n",
       "      <td>6</td>\n",
       "      <td>13</td>\n",
       "      <td>18</td>\n",
       "      <td>13</td>\n",
       "    </tr>\n",
       "    <tr>\n",
       "      <th>3</th>\n",
       "      <td>1475228421</td>\n",
       "      <td>1.21</td>\n",
       "      <td>48</td>\n",
       "      <td>30.46</td>\n",
       "      <td>60</td>\n",
       "      <td>137.71</td>\n",
       "      <td>3.37</td>\n",
       "      <td>9</td>\n",
       "      <td>29</td>\n",
       "      <td>2016</td>\n",
       "      <td>23</td>\n",
       "      <td>40</td>\n",
       "      <td>21</td>\n",
       "      <td>6</td>\n",
       "      <td>13</td>\n",
       "      <td>18</td>\n",
       "      <td>13</td>\n",
       "    </tr>\n",
       "    <tr>\n",
       "      <th>4</th>\n",
       "      <td>1475228124</td>\n",
       "      <td>1.17</td>\n",
       "      <td>48</td>\n",
       "      <td>30.46</td>\n",
       "      <td>62</td>\n",
       "      <td>104.95</td>\n",
       "      <td>5.62</td>\n",
       "      <td>9</td>\n",
       "      <td>29</td>\n",
       "      <td>2016</td>\n",
       "      <td>23</td>\n",
       "      <td>35</td>\n",
       "      <td>24</td>\n",
       "      <td>6</td>\n",
       "      <td>13</td>\n",
       "      <td>18</td>\n",
       "      <td>13</td>\n",
       "    </tr>\n",
       "    <tr>\n",
       "      <th>...</th>\n",
       "      <td>...</td>\n",
       "      <td>...</td>\n",
       "      <td>...</td>\n",
       "      <td>...</td>\n",
       "      <td>...</td>\n",
       "      <td>...</td>\n",
       "      <td>...</td>\n",
       "      <td>...</td>\n",
       "      <td>...</td>\n",
       "      <td>...</td>\n",
       "      <td>...</td>\n",
       "      <td>...</td>\n",
       "      <td>...</td>\n",
       "      <td>...</td>\n",
       "      <td>...</td>\n",
       "      <td>...</td>\n",
       "      <td>...</td>\n",
       "    </tr>\n",
       "    <tr>\n",
       "      <th>32681</th>\n",
       "      <td>1480587604</td>\n",
       "      <td>1.22</td>\n",
       "      <td>44</td>\n",
       "      <td>30.43</td>\n",
       "      <td>102</td>\n",
       "      <td>145.42</td>\n",
       "      <td>6.75</td>\n",
       "      <td>12</td>\n",
       "      <td>1</td>\n",
       "      <td>2016</td>\n",
       "      <td>0</td>\n",
       "      <td>20</td>\n",
       "      <td>4</td>\n",
       "      <td>6</td>\n",
       "      <td>41</td>\n",
       "      <td>17</td>\n",
       "      <td>42</td>\n",
       "    </tr>\n",
       "    <tr>\n",
       "      <th>32682</th>\n",
       "      <td>1480587301</td>\n",
       "      <td>1.17</td>\n",
       "      <td>44</td>\n",
       "      <td>30.42</td>\n",
       "      <td>102</td>\n",
       "      <td>117.78</td>\n",
       "      <td>6.75</td>\n",
       "      <td>12</td>\n",
       "      <td>1</td>\n",
       "      <td>2016</td>\n",
       "      <td>0</td>\n",
       "      <td>15</td>\n",
       "      <td>1</td>\n",
       "      <td>6</td>\n",
       "      <td>41</td>\n",
       "      <td>17</td>\n",
       "      <td>42</td>\n",
       "    </tr>\n",
       "    <tr>\n",
       "      <th>32683</th>\n",
       "      <td>1480587001</td>\n",
       "      <td>1.20</td>\n",
       "      <td>44</td>\n",
       "      <td>30.42</td>\n",
       "      <td>102</td>\n",
       "      <td>145.19</td>\n",
       "      <td>9.00</td>\n",
       "      <td>12</td>\n",
       "      <td>1</td>\n",
       "      <td>2016</td>\n",
       "      <td>0</td>\n",
       "      <td>10</td>\n",
       "      <td>1</td>\n",
       "      <td>6</td>\n",
       "      <td>41</td>\n",
       "      <td>17</td>\n",
       "      <td>42</td>\n",
       "    </tr>\n",
       "    <tr>\n",
       "      <th>32684</th>\n",
       "      <td>1480586702</td>\n",
       "      <td>1.23</td>\n",
       "      <td>44</td>\n",
       "      <td>30.42</td>\n",
       "      <td>101</td>\n",
       "      <td>164.19</td>\n",
       "      <td>7.87</td>\n",
       "      <td>12</td>\n",
       "      <td>1</td>\n",
       "      <td>2016</td>\n",
       "      <td>0</td>\n",
       "      <td>5</td>\n",
       "      <td>2</td>\n",
       "      <td>6</td>\n",
       "      <td>41</td>\n",
       "      <td>17</td>\n",
       "      <td>42</td>\n",
       "    </tr>\n",
       "    <tr>\n",
       "      <th>32685</th>\n",
       "      <td>1480586402</td>\n",
       "      <td>1.20</td>\n",
       "      <td>44</td>\n",
       "      <td>30.43</td>\n",
       "      <td>101</td>\n",
       "      <td>83.59</td>\n",
       "      <td>3.37</td>\n",
       "      <td>12</td>\n",
       "      <td>1</td>\n",
       "      <td>2016</td>\n",
       "      <td>0</td>\n",
       "      <td>0</td>\n",
       "      <td>2</td>\n",
       "      <td>6</td>\n",
       "      <td>41</td>\n",
       "      <td>17</td>\n",
       "      <td>42</td>\n",
       "    </tr>\n",
       "  </tbody>\n",
       "</table>\n",
       "<p>32686 rows × 17 columns</p>\n",
       "</div>"
      ],
      "text/plain": [
       "         UNIXTime  Radiation  Temperature  Pressure  Humidity  \\\n",
       "0      1475229326       1.21           48     30.46        59   \n",
       "1      1475229023       1.21           48     30.46        58   \n",
       "2      1475228726       1.23           48     30.46        57   \n",
       "3      1475228421       1.21           48     30.46        60   \n",
       "4      1475228124       1.17           48     30.46        62   \n",
       "...           ...        ...          ...       ...       ...   \n",
       "32681  1480587604       1.22           44     30.43       102   \n",
       "32682  1480587301       1.17           44     30.42       102   \n",
       "32683  1480587001       1.20           44     30.42       102   \n",
       "32684  1480586702       1.23           44     30.42       101   \n",
       "32685  1480586402       1.20           44     30.43       101   \n",
       "\n",
       "       WindDirection(Degrees)  Speed  Month  Day  Year  Hour  Minute  Second  \\\n",
       "0                      177.39   5.62      9   29  2016    23      55      26   \n",
       "1                      176.78   3.37      9   29  2016    23      50      23   \n",
       "2                      158.75   3.37      9   29  2016    23      45      26   \n",
       "3                      137.71   3.37      9   29  2016    23      40      21   \n",
       "4                      104.95   5.62      9   29  2016    23      35      24   \n",
       "...                       ...    ...    ...  ...   ...   ...     ...     ...   \n",
       "32681                  145.42   6.75     12    1  2016     0      20       4   \n",
       "32682                  117.78   6.75     12    1  2016     0      15       1   \n",
       "32683                  145.19   9.00     12    1  2016     0      10       1   \n",
       "32684                  164.19   7.87     12    1  2016     0       5       2   \n",
       "32685                   83.59   3.37     12    1  2016     0       0       2   \n",
       "\n",
       "       SunriseHour  SunriseMinute  SunsetHour  SunsetMinute  \n",
       "0                6             13          18            13  \n",
       "1                6             13          18            13  \n",
       "2                6             13          18            13  \n",
       "3                6             13          18            13  \n",
       "4                6             13          18            13  \n",
       "...            ...            ...         ...           ...  \n",
       "32681            6             41          17            42  \n",
       "32682            6             41          17            42  \n",
       "32683            6             41          17            42  \n",
       "32684            6             41          17            42  \n",
       "32685            6             41          17            42  \n",
       "\n",
       "[32686 rows x 17 columns]"
      ]
     },
     "execution_count": 35,
     "metadata": {},
     "output_type": "execute_result"
    }
   ],
   "source": [
    "data['SunriseHour'] = data['TimeSunRise'].apply(lambda x: re.search(r'^\\d+', x).group(0)).astype(int)\n",
    "data['SunriseMinute'] = data['TimeSunRise'].apply(lambda x: re.search(r'(?<=\\:)\\d+(?=\\:)', x).group(0)).astype(int)\n",
    "\n",
    "data['SunsetHour'] = data['TimeSunSet'].apply(lambda x: re.search(r'^\\d+', x).group(0)).astype(int)\n",
    "data['SunsetMinute'] = data['TimeSunSet'].apply(lambda x: re.search(r'(?<=\\:)\\d+(?=\\:)', x).group(0)).astype(int)\n",
    "\n",
    "data = data.drop(['TimeSunRise', 'TimeSunSet'], axis =1)\n",
    "data"
   ]
  },
  {
   "cell_type": "code",
   "execution_count": 36,
   "metadata": {},
   "outputs": [
    {
     "data": {
      "text/plain": [
       "UNIXTime                    int64\n",
       "Radiation                 float64\n",
       "Temperature                 int64\n",
       "Pressure                  float64\n",
       "Humidity                    int64\n",
       "WindDirection(Degrees)    float64\n",
       "Speed                     float64\n",
       "Month                       int32\n",
       "Day                         int32\n",
       "Year                        int32\n",
       "Hour                        int32\n",
       "Minute                      int32\n",
       "Second                      int32\n",
       "SunriseHour                 int32\n",
       "SunriseMinute               int32\n",
       "SunsetHour                  int32\n",
       "SunsetMinute                int32\n",
       "dtype: object"
      ]
     },
     "execution_count": 36,
     "metadata": {},
     "output_type": "execute_result"
    }
   ],
   "source": [
    "data.dtypes"
   ]
  },
  {
   "cell_type": "code",
   "execution_count": 37,
   "metadata": {},
   "outputs": [
    {
     "data": {
      "text/plain": [
       "array([2016])"
      ]
     },
     "execution_count": 37,
     "metadata": {},
     "output_type": "execute_result"
    }
   ],
   "source": [
    "# before we can continue, year variable is the same, so we need to comprobe it\n",
    "data['Year'].unique()"
   ]
  },
  {
   "cell_type": "code",
   "execution_count": 38,
   "metadata": {},
   "outputs": [
    {
     "data": {
      "text/plain": [
       "array([6])"
      ]
     },
     "execution_count": 38,
     "metadata": {},
     "output_type": "execute_result"
    }
   ],
   "source": [
    "data['SunriseHour'].unique()"
   ]
  },
  {
   "cell_type": "code",
   "execution_count": 39,
   "metadata": {},
   "outputs": [],
   "source": [
    "## we can drop 'Year' from data, or erase it from above (2nd)\n",
    "data = data.drop(['Year', 'SunriseHour'], axis = 1)"
   ]
  },
  {
   "cell_type": "markdown",
   "metadata": {},
   "source": [
    "Splitting (Scaling)"
   ]
  },
  {
   "cell_type": "code",
   "execution_count": 40,
   "metadata": {},
   "outputs": [],
   "source": [
    "## so, we don't wanna overwrite anything\n",
    "\n",
    "Y = data['Radiation'].copy() ## Radiation --> comparative parameter\n",
    "X = data.drop('Radiation', axis = 1).copy() ## Droping Radiation"
   ]
  },
  {
   "cell_type": "code",
   "execution_count": 41,
   "metadata": {},
   "outputs": [],
   "source": [
    "scaler = StandardScaler()\n",
    "\n",
    "X = scaler.fit_transform(X)"
   ]
  },
  {
   "cell_type": "code",
   "execution_count": 42,
   "metadata": {},
   "outputs": [],
   "source": [
    "## Validation Set (for training and fitting a learning model)\n",
    "\n",
    "X_train , X_test , Y_train , Y_test = train_test_split(X, Y, train_size=0.7, random_state=100) ## 70% size || random seed as 100 'cause not setting a value will always randomize it\n",
    "X_train , X_val , Y_train , Y_val = train_test_split(X_train,  Y_train, train_size=0.8, random_state=200) # 20% as a validiation set for our size\n"
   ]
  },
  {
   "cell_type": "code",
   "execution_count": 43,
   "metadata": {},
   "outputs": [
    {
     "name": "stdout",
     "output_type": "stream",
     "text": [
      "18304\n",
      "9806\n",
      "4576\n"
     ]
    }
   ],
   "source": [
    "## let's scope the shape\n",
    "print(X_train.shape[0]) ## EXAMPLES in our training set\n",
    "print(X_test.shape[0]) ## EXAMPLES for our test set\n",
    "print(X_val.shape[0]) ## EXAMPLES in our validation \n",
    "\n",
    "# nous pouvonz changer la mostre pour si la taille est plus reduit"
   ]
  },
  {
   "cell_type": "markdown",
   "metadata": {},
   "source": [
    "D MATRIX (XGBoost Data type used for performance optimization)"
   ]
  },
  {
   "cell_type": "code",
   "execution_count": 44,
   "metadata": {},
   "outputs": [],
   "source": [
    "## D MATRIX for our previous train, test and validation sets\n",
    "## similar to --> Pandas DFrame\n",
    "\n",
    "dtrain = xgb.DMatrix(X_train, label=Y_train)\n",
    "dval = xgb.DMatrix(X_val, label=Y_val)\n",
    "dtest = xgb.DMatrix(X_test, label=Y_test)"
   ]
  },
  {
   "cell_type": "markdown",
   "metadata": {},
   "source": [
    "Training"
   ]
  },
  {
   "cell_type": "code",
   "execution_count": 45,
   "metadata": {},
   "outputs": [],
   "source": [
    "def get_model_rmse(params):\n",
    "    ## let's consider evaluation as tuples in a list --> [ () ]\n",
    "    model = xgb.train(params, dtrain, num_boost_round=100, evals=[(dval, 'eval')], early_stopping_rounds=10, verbose_eval=0) ## n° of boost rounds\n",
    "    ## we add a early stopping when reached 10 rounds w/o any improve\n",
    "    ## Verbose turned off\n",
    "    \n",
    "    # storing the results --> eval() will evaluate a string and return an integer value\n",
    "    results = model.eval(dval) #the results are taken out from the dval --> USUALLY is better to not change the test set\n",
    "    # 'cause test is being biased bc of that eval // it's better to use other param rather than test set\n",
    "    \n",
    "    ##getting the RMSE with reg exp\n",
    "    rmse = float(re.search(r'[\\d.]+$', results).group(0))\n",
    "    \n",
    "    return rmse"
   ]
  },
  {
   "cell_type": "code",
   "execution_count": 46,
   "metadata": {},
   "outputs": [],
   "source": [
    "        ## creating a test model || we test it once and then we forget about it\n",
    "#   params = {'learning_rate': 0.01, 'max_depth': 6, 'alpha': 0.01, 'lambda': 1.0}\n",
    "#   get_model_rmse(params)"
   ]
  },
  {
   "cell_type": "code",
   "execution_count": 47,
   "metadata": {},
   "outputs": [],
   "source": [
    "## optuna for HPs optimization\n",
    "\n",
    "## this f(x) objective iterates through finding loss values\n",
    "def objective(trial): # creates new params and tests them out, 'til finds the lowest value possible\n",
    "    learning_rate = trial.suggest_float('learning_rate', 0.0001, 10 , log=True) ## we don't wanna int for the learning rate --> float preferably\n",
    "    ## suggest_loguniform =  suggest_float(…, log=True) // loguniform is gonna be removed in a future version\n",
    "    # in this case, suggest is gonna use lowered n° in continous distribution as l_rate\n",
    "    # which is good cause is extremely sensitive to change at lower values (fast training)\n",
    "    \n",
    "    max_depth = trial.suggest_int('max_depth', 4, 8)    ## integer random number in range 4~8\n",
    "    ## like a bounding ball 'cause the range of numbers are gonna change the training set at random\n",
    "    \n",
    "    l1_reg = trial.suggest_float('l1_reg', 0.0001, 10)    ## regularizations\n",
    "    l2_reg = trial.suggest_float('l2_reg', 0.0001, 10)   ## regularizations\n",
    "    \n",
    "    # as a dictionary or set\n",
    "    params = {'learning_rate': learning_rate, 'max_depth': max_depth, 'alpha': l1_reg, 'lambda': l2_reg} ## has to be the same name that XGB are gonna take\n",
    "    \n",
    "    return get_model_rmse(params)\n",
    "    "
   ]
  },
  {
   "cell_type": "code",
   "execution_count": 48,
   "metadata": {},
   "outputs": [
    {
     "name": "stderr",
     "output_type": "stream",
     "text": [
      "[I 2024-07-18 15:04:18,703] A new study created in memory with name: no-name-8f86f633-a8be-40b7-ab31-584e807c97e1\n",
      "Best trial: 1. Best value: 95.8233:   2%|▏         | 2/100 [00:00<00:15,  6.15it/s]"
     ]
    },
    {
     "name": "stdout",
     "output_type": "stream",
     "text": [
      "[I 2024-07-18 15:04:18,872] Trial 0 finished with value: 289.95994586096606 and parameters: {'learning_rate': 0.0012853367210761547, 'max_depth': 4, 'l1_reg': 4.1723653569979104, 'l2_reg': 6.325368272047243}. Best is trial 0 with value: 289.95994586096606.\n",
      "[I 2024-07-18 15:04:19,038] Trial 1 finished with value: 95.82325133757143 and parameters: {'learning_rate': 0.39406032034982075, 'max_depth': 4, 'l1_reg': 0.12168150094866213, 'l2_reg': 6.851477872710738}. Best is trial 1 with value: 95.82325133757143.\n"
     ]
    },
    {
     "name": "stderr",
     "output_type": "stream",
     "text": [
      "Best trial: 2. Best value: 88.891:   3%|▎         | 3/100 [00:00<00:28,  3.40it/s] "
     ]
    },
    {
     "name": "stdout",
     "output_type": "stream",
     "text": [
      "[I 2024-07-18 15:04:19,488] Trial 2 finished with value: 88.89100202182735 and parameters: {'learning_rate': 0.04098022351772214, 'max_depth': 8, 'l1_reg': 6.889072629577934, 'l2_reg': 4.253100594752421}. Best is trial 2 with value: 88.89100202182735.\n"
     ]
    },
    {
     "name": "stderr",
     "output_type": "stream",
     "text": [
      "Best trial: 2. Best value: 88.891:   4%|▍         | 4/100 [00:01<00:26,  3.62it/s]"
     ]
    },
    {
     "name": "stdout",
     "output_type": "stream",
     "text": [
      "[I 2024-07-18 15:04:19,725] Trial 3 finished with value: 89.39706501658131 and parameters: {'learning_rate': 0.17858871640974913, 'max_depth': 6, 'l1_reg': 2.240234509197972, 'l2_reg': 8.357923087206322}. Best is trial 2 with value: 88.89100202182735.\n"
     ]
    },
    {
     "name": "stderr",
     "output_type": "stream",
     "text": [
      "Best trial: 2. Best value: 88.891:   5%|▌         | 5/100 [00:01<00:28,  3.37it/s]"
     ]
    },
    {
     "name": "stdout",
     "output_type": "stream",
     "text": [
      "[I 2024-07-18 15:04:20,063] Trial 4 finished with value: 92.57593054754363 and parameters: {'learning_rate': 0.03915179957451597, 'max_depth': 7, 'l1_reg': 0.1667910665458191, 'l2_reg': 4.3838212912241765}. Best is trial 2 with value: 88.89100202182735.\n"
     ]
    },
    {
     "name": "stderr",
     "output_type": "stream",
     "text": [
      "Best trial: 2. Best value: 88.891:   6%|▌         | 6/100 [00:01<00:31,  2.96it/s]"
     ]
    },
    {
     "name": "stdout",
     "output_type": "stream",
     "text": [
      "[I 2024-07-18 15:04:20,486] Trial 5 finished with value: 289.20418654865273 and parameters: {'learning_rate': 0.0011782557981431933, 'max_depth': 8, 'l1_reg': 4.916912914331829, 'l2_reg': 5.040175914836623}. Best is trial 2 with value: 88.89100202182735.\n"
     ]
    },
    {
     "name": "stderr",
     "output_type": "stream",
     "text": [
      "Best trial: 2. Best value: 88.891:   7%|▋         | 7/100 [00:02<00:28,  3.29it/s]"
     ]
    },
    {
     "name": "stdout",
     "output_type": "stream",
     "text": [
      "[I 2024-07-18 15:04:20,721] Trial 6 finished with value: 91.37016813813791 and parameters: {'learning_rate': 0.12337667539942276, 'max_depth': 6, 'l1_reg': 5.396236240342791, 'l2_reg': 0.6998677594548929}. Best is trial 2 with value: 88.89100202182735.\n",
      "[I 2024-07-18 15:04:20,758] Trial 7 finished with value: 9601.956608649905 and parameters: {'learning_rate': 2.383137346037682, 'max_depth': 5, 'l1_reg': 3.2001602838460053, 'l2_reg': 2.874212627609292}. Best is trial 2 with value: 88.89100202182735.\n"
     ]
    },
    {
     "name": "stderr",
     "output_type": "stream",
     "text": [
      "Best trial: 2. Best value: 88.891:  10%|█         | 10/100 [00:02<00:19,  4.52it/s]"
     ]
    },
    {
     "name": "stdout",
     "output_type": "stream",
     "text": [
      "[I 2024-07-18 15:04:21,072] Trial 8 finished with value: 140.27348094164014 and parameters: {'learning_rate': 0.012426872075541042, 'max_depth': 7, 'l1_reg': 5.570233159734603, 'l2_reg': 8.972620744146715}. Best is trial 2 with value: 88.89100202182735.\n",
      "[I 2024-07-18 15:04:21,237] Trial 9 finished with value: 102.63899671857888 and parameters: {'learning_rate': 0.11321555416698297, 'max_depth': 4, 'l1_reg': 1.3030352316289462, 'l2_reg': 9.19873136403857}. Best is trial 2 with value: 88.89100202182735.\n"
     ]
    },
    {
     "name": "stderr",
     "output_type": "stream",
     "text": [
      "Best trial: 2. Best value: 88.891:  11%|█         | 11/100 [00:03<00:24,  3.60it/s]"
     ]
    },
    {
     "name": "stdout",
     "output_type": "stream",
     "text": [
      "[I 2024-07-18 15:04:21,671] Trial 10 finished with value: 315.68571101469456 and parameters: {'learning_rate': 0.0001361497770297073, 'max_depth': 8, 'l1_reg': 8.64283364015341, 'l2_reg': 1.1646332623376385}. Best is trial 2 with value: 88.89100202182735.\n",
      "[I 2024-07-18 15:04:21,737] Trial 11 finished with value: 1536862823991.596 and parameters: {'learning_rate': 8.73424857564458, 'max_depth': 6, 'l1_reg': 8.293399422912245, 'l2_reg': 7.578744664480132}. Best is trial 2 with value: 88.89100202182735.\n"
     ]
    },
    {
     "name": "stderr",
     "output_type": "stream",
     "text": [
      "                                                                                   "
     ]
    },
    {
     "name": "stdout",
     "output_type": "stream",
     "text": [
      "[I 2024-07-18 15:04:22,088] Trial 12 finished with value: 185.69933222561318 and parameters: {'learning_rate': 0.00713705027005425, 'max_depth': 7, 'l1_reg': 6.785435031869238, 'l2_reg': 3.293225116650411}. Best is trial 2 with value: 88.89100202182735.\n"
     ]
    },
    {
     "name": "stderr",
     "output_type": "stream",
     "text": [
      "Best trial: 2. Best value: 88.891:  14%|█▍        | 14/100 [00:03<00:20,  4.25it/s]"
     ]
    },
    {
     "name": "stdout",
     "output_type": "stream",
     "text": [
      "[I 2024-07-18 15:04:22,287] Trial 13 finished with value: 97.88549973177238 and parameters: {'learning_rate': 0.7564090624324273, 'max_depth': 5, 'l1_reg': 2.6384654313531586, 'l2_reg': 5.555239729925117}. Best is trial 2 with value: 88.89100202182735.\n"
     ]
    },
    {
     "name": "stderr",
     "output_type": "stream",
     "text": [
      "Best trial: 2. Best value: 88.891:  15%|█▌        | 15/100 [00:03<00:19,  4.26it/s]"
     ]
    },
    {
     "name": "stdout",
     "output_type": "stream",
     "text": [
      "[I 2024-07-18 15:04:22,521] Trial 14 finished with value: 102.0393419390611 and parameters: {'learning_rate': 0.05109420420902924, 'max_depth': 5, 'l1_reg': 7.743102845036011, 'l2_reg': 3.0433452660319515}. Best is trial 2 with value: 88.89100202182735.\n"
     ]
    },
    {
     "name": "stderr",
     "output_type": "stream",
     "text": [
      "Best trial: 2. Best value: 88.891:  16%|█▌        | 16/100 [00:04<00:19,  4.34it/s]"
     ]
    },
    {
     "name": "stdout",
     "output_type": "stream",
     "text": [
      "[I 2024-07-18 15:04:22,721] Trial 15 finished with value: 91.23034481210235 and parameters: {'learning_rate': 0.46874422283767403, 'max_depth': 7, 'l1_reg': 9.999671055043367, 'l2_reg': 9.96806628881598}. Best is trial 2 with value: 88.89100202182735.\n"
     ]
    },
    {
     "name": "stderr",
     "output_type": "stream",
     "text": [
      "Best trial: 2. Best value: 88.891:  18%|█▊        | 18/100 [00:04<00:19,  4.12it/s]"
     ]
    },
    {
     "name": "stdout",
     "output_type": "stream",
     "text": [
      "[I 2024-07-18 15:04:23,163] Trial 16 finished with value: 205.43740482233386 and parameters: {'learning_rate': 0.005607392996816116, 'max_depth': 8, 'l1_reg': 2.4466015286696905, 'l2_reg': 7.757951685232127}. Best is trial 2 with value: 88.89100202182735.\n",
      "[I 2024-07-18 15:04:23,299] Trial 17 finished with value: 128.87575616814672 and parameters: {'learning_rate': 1.8809992415879142, 'max_depth': 6, 'l1_reg': 6.616417747057114, 'l2_reg': 4.10812042605115}. Best is trial 2 with value: 88.89100202182735.\n"
     ]
    },
    {
     "name": "stderr",
     "output_type": "stream",
     "text": [
      "Best trial: 2. Best value: 88.891:  19%|█▉        | 19/100 [00:04<00:21,  3.73it/s]"
     ]
    },
    {
     "name": "stdout",
     "output_type": "stream",
     "text": [
      "[I 2024-07-18 15:04:23,630] Trial 18 finished with value: 89.2485715094282 and parameters: {'learning_rate': 0.16957940930811496, 'max_depth': 6, 'l1_reg': 3.79434575777693, 'l2_reg': 1.7746253403965362}. Best is trial 2 with value: 88.89100202182735.\n"
     ]
    },
    {
     "name": "stderr",
     "output_type": "stream",
     "text": [
      "Best trial: 2. Best value: 88.891:  20%|██        | 20/100 [00:05<00:23,  3.37it/s]"
     ]
    },
    {
     "name": "stdout",
     "output_type": "stream",
     "text": [
      "[I 2024-07-18 15:04:24,001] Trial 19 finished with value: 108.90621580351024 and parameters: {'learning_rate': 0.019816479619332843, 'max_depth': 7, 'l1_reg': 4.038682370363364, 'l2_reg': 1.8668915142608011}. Best is trial 2 with value: 88.89100202182735.\n"
     ]
    },
    {
     "name": "stderr",
     "output_type": "stream",
     "text": [
      "Best trial: 2. Best value: 88.891:  21%|██        | 21/100 [00:05<00:26,  2.98it/s]"
     ]
    },
    {
     "name": "stdout",
     "output_type": "stream",
     "text": [
      "[I 2024-07-18 15:04:24,431] Trial 20 finished with value: 286.9771303920798 and parameters: {'learning_rate': 0.0012560158094305474, 'max_depth': 8, 'l1_reg': 6.22627324377873, 'l2_reg': 2.065762074902536}. Best is trial 2 with value: 88.89100202182735.\n"
     ]
    },
    {
     "name": "stderr",
     "output_type": "stream",
     "text": [
      "Best trial: 2. Best value: 88.891:  22%|██▏       | 22/100 [00:06<00:25,  3.05it/s]"
     ]
    },
    {
     "name": "stdout",
     "output_type": "stream",
     "text": [
      "[I 2024-07-18 15:04:24,739] Trial 21 finished with value: 91.78741967022678 and parameters: {'learning_rate': 0.10810563373892869, 'max_depth': 6, 'l1_reg': 1.758516367843626, 'l2_reg': 0.38224865590301516}. Best is trial 2 with value: 88.89100202182735.\n"
     ]
    },
    {
     "name": "stderr",
     "output_type": "stream",
     "text": [
      "Best trial: 2. Best value: 88.891:  24%|██▍       | 24/100 [00:06<00:18,  4.03it/s]"
     ]
    },
    {
     "name": "stdout",
     "output_type": "stream",
     "text": [
      "[I 2024-07-18 15:04:24,996] Trial 22 finished with value: 92.32504059325478 and parameters: {'learning_rate': 0.26930186853692895, 'max_depth': 5, 'l1_reg': 4.026582122574133, 'l2_reg': 5.937105643936225}. Best is trial 2 with value: 88.89100202182735.\n",
      "[I 2024-07-18 15:04:25,102] Trial 23 finished with value: 122.19286256393343 and parameters: {'learning_rate': 1.5240605328712324, 'max_depth': 6, 'l1_reg': 1.276967443632088, 'l2_reg': 4.1601335934648676}. Best is trial 2 with value: 88.89100202182735.\n"
     ]
    },
    {
     "name": "stderr",
     "output_type": "stream",
     "text": [
      "Best trial: 2. Best value: 88.891:  25%|██▌       | 25/100 [00:06<00:20,  3.64it/s]"
     ]
    },
    {
     "name": "stdout",
     "output_type": "stream",
     "text": [
      "[I 2024-07-18 15:04:25,439] Trial 24 finished with value: 95.11802249608121 and parameters: {'learning_rate': 0.049310969817117654, 'max_depth': 6, 'l1_reg': 3.2914991545890686, 'l2_reg': 2.006385229715258}. Best is trial 2 with value: 88.89100202182735.\n"
     ]
    },
    {
     "name": "stderr",
     "output_type": "stream",
     "text": [
      "Best trial: 25. Best value: 86.0157:  26%|██▌       | 26/100 [00:07<00:21,  3.38it/s]"
     ]
    },
    {
     "name": "stdout",
     "output_type": "stream",
     "text": [
      "[I 2024-07-18 15:04:25,785] Trial 25 finished with value: 86.01571671284275 and parameters: {'learning_rate': 0.21753132927183624, 'max_depth': 7, 'l1_reg': 4.666406968784457, 'l2_reg': 7.285840967282921}. Best is trial 25 with value: 86.01571671284275.\n"
     ]
    },
    {
     "name": "stderr",
     "output_type": "stream",
     "text": [
      "Best trial: 25. Best value: 86.0157:  28%|██▊       | 28/100 [00:07<00:19,  3.64it/s]"
     ]
    },
    {
     "name": "stdout",
     "output_type": "stream",
     "text": [
      "[I 2024-07-18 15:04:26,255] Trial 26 finished with value: 242.10016760558085 and parameters: {'learning_rate': 0.003407158881330543, 'max_depth': 8, 'l1_reg': 4.920702342176728, 'l2_reg': 7.1796385921607}. Best is trial 25 with value: 86.01571671284275.\n",
      "[I 2024-07-18 15:04:26,358] Trial 27 finished with value: 4634086356.26525 and parameters: {'learning_rate': 5.556747710693077, 'max_depth': 7, 'l1_reg': 7.444938764668663, 'l2_reg': 4.880008386260159}. Best is trial 25 with value: 86.01571671284275.\n"
     ]
    },
    {
     "name": "stderr",
     "output_type": "stream",
     "text": [
      "Best trial: 25. Best value: 86.0157:  29%|██▉       | 29/100 [00:07<00:16,  4.29it/s]"
     ]
    },
    {
     "name": "stdout",
     "output_type": "stream",
     "text": [
      "[I 2024-07-18 15:04:26,496] Trial 28 finished with value: 103.119707601528 and parameters: {'learning_rate': 0.9979360637660639, 'max_depth': 7, 'l1_reg': 5.737307057563449, 'l2_reg': 3.3144916013646766}. Best is trial 25 with value: 86.01571671284275.\n"
     ]
    },
    {
     "name": "stderr",
     "output_type": "stream",
     "text": [
      "Best trial: 25. Best value: 86.0157:  30%|███       | 30/100 [00:08<00:21,  3.25it/s]"
     ]
    },
    {
     "name": "stdout",
     "output_type": "stream",
     "text": [
      "[I 2024-07-18 15:04:26,984] Trial 29 finished with value: 104.34909899713479 and parameters: {'learning_rate': 0.020561466094200277, 'max_depth': 8, 'l1_reg': 4.450917637437265, 'l2_reg': 6.43888753188797}. Best is trial 25 with value: 86.01571671284275.\n"
     ]
    },
    {
     "name": "stderr",
     "output_type": "stream",
     "text": [
      "Best trial: 25. Best value: 86.0157:  31%|███       | 31/100 [00:08<00:22,  3.09it/s]"
     ]
    },
    {
     "name": "stdout",
     "output_type": "stream",
     "text": [
      "[I 2024-07-18 15:04:27,340] Trial 30 finished with value: 87.69665399660954 and parameters: {'learning_rate': 0.22433191739888317, 'max_depth': 7, 'l1_reg': 3.3371826081522245, 'l2_reg': 5.543581085071121}. Best is trial 25 with value: 86.01571671284275.\n"
     ]
    },
    {
     "name": "stderr",
     "output_type": "stream",
     "text": [
      "Best trial: 25. Best value: 86.0157:  32%|███▏      | 32/100 [00:08<00:22,  3.01it/s]"
     ]
    },
    {
     "name": "stdout",
     "output_type": "stream",
     "text": [
      "[I 2024-07-18 15:04:27,689] Trial 31 finished with value: 88.38268978545476 and parameters: {'learning_rate': 0.20084976020137874, 'max_depth': 7, 'l1_reg': 3.4805449043515795, 'l2_reg': 5.5032686037668}. Best is trial 25 with value: 86.01571671284275.\n"
     ]
    },
    {
     "name": "stderr",
     "output_type": "stream",
     "text": [
      "Best trial: 25. Best value: 86.0157:  33%|███▎      | 33/100 [00:09<00:22,  2.98it/s]"
     ]
    },
    {
     "name": "stdout",
     "output_type": "stream",
     "text": [
      "[I 2024-07-18 15:04:28,031] Trial 32 finished with value: 90.66712606685957 and parameters: {'learning_rate': 0.4858622313765507, 'max_depth': 7, 'l1_reg': 3.5138850430936386, 'l2_reg': 6.530276401850465}. Best is trial 25 with value: 86.01571671284275.\n"
     ]
    },
    {
     "name": "stderr",
     "output_type": "stream",
     "text": [
      "Best trial: 25. Best value: 86.0157:  34%|███▍      | 34/100 [00:09<00:27,  2.40it/s]"
     ]
    },
    {
     "name": "stdout",
     "output_type": "stream",
     "text": [
      "[I 2024-07-18 15:04:28,632] Trial 33 finished with value: 87.85805056730747 and parameters: {'learning_rate': 0.07049045381903116, 'max_depth': 8, 'l1_reg': 4.55551821378453, 'l2_reg': 5.296619392745651}. Best is trial 25 with value: 86.01571671284275.\n"
     ]
    },
    {
     "name": "stderr",
     "output_type": "stream",
     "text": [
      "Best trial: 25. Best value: 86.0157:  35%|███▌      | 35/100 [00:10<00:28,  2.30it/s]"
     ]
    },
    {
     "name": "stdout",
     "output_type": "stream",
     "text": [
      "[I 2024-07-18 15:04:29,114] Trial 34 finished with value: 88.68413963447013 and parameters: {'learning_rate': 0.07995390420390844, 'max_depth': 7, 'l1_reg': 4.372318282187981, 'l2_reg': 5.632712624684271}. Best is trial 25 with value: 86.01571671284275.\n"
     ]
    },
    {
     "name": "stderr",
     "output_type": "stream",
     "text": [
      "Best trial: 25. Best value: 86.0157:  36%|███▌      | 36/100 [00:10<00:27,  2.29it/s]"
     ]
    },
    {
     "name": "stdout",
     "output_type": "stream",
     "text": [
      "[I 2024-07-18 15:04:29,561] Trial 35 finished with value: 88.28367920550252 and parameters: {'learning_rate': 0.24791613132481732, 'max_depth': 8, 'l1_reg': 2.968237645982188, 'l2_reg': 5.074283731147385}. Best is trial 25 with value: 86.01571671284275.\n"
     ]
    },
    {
     "name": "stderr",
     "output_type": "stream",
     "text": [
      "Best trial: 25. Best value: 86.0157:  37%|███▋      | 37/100 [00:11<00:25,  2.44it/s]"
     ]
    },
    {
     "name": "stdout",
     "output_type": "stream",
     "text": [
      "[I 2024-07-18 15:04:29,908] Trial 36 finished with value: 88.21185280561777 and parameters: {'learning_rate': 0.3653991510979154, 'max_depth': 8, 'l1_reg': 2.675738886307885, 'l2_reg': 4.925121395089773}. Best is trial 25 with value: 86.01571671284275.\n"
     ]
    },
    {
     "name": "stderr",
     "output_type": "stream",
     "text": [
      "Best trial: 25. Best value: 86.0157:  39%|███▉      | 39/100 [00:11<00:18,  3.25it/s]"
     ]
    },
    {
     "name": "stdout",
     "output_type": "stream",
     "text": [
      "[I 2024-07-18 15:04:30,205] Trial 37 finished with value: 92.44022370363902 and parameters: {'learning_rate': 0.5493317414230535, 'max_depth': 8, 'l1_reg': 2.1226505591777034, 'l2_reg': 6.78855879225994}. Best is trial 25 with value: 86.01571671284275.\n",
      "[I 2024-07-18 15:04:30,353] Trial 38 finished with value: 37835509.23488934 and parameters: {'learning_rate': 3.9574359908441066, 'max_depth': 8, 'l1_reg': 0.6410906951593871, 'l2_reg': 6.021612957736043}. Best is trial 25 with value: 86.01571671284275.\n"
     ]
    },
    {
     "name": "stderr",
     "output_type": "stream",
     "text": [
      "Best trial: 25. Best value: 86.0157:  40%|████      | 40/100 [00:12<00:24,  2.43it/s]"
     ]
    },
    {
     "name": "stdout",
     "output_type": "stream",
     "text": [
      "[I 2024-07-18 15:04:31,002] Trial 39 finished with value: 87.60791704358937 and parameters: {'learning_rate': 0.0636804747503476, 'max_depth': 8, 'l1_reg': 4.716592474811037, 'l2_reg': 4.639100696405961}. Best is trial 25 with value: 86.01571671284275.\n"
     ]
    },
    {
     "name": "stderr",
     "output_type": "stream",
     "text": [
      "Best trial: 25. Best value: 86.0157:  41%|████      | 41/100 [00:12<00:28,  2.10it/s]"
     ]
    },
    {
     "name": "stdout",
     "output_type": "stream",
     "text": [
      "[I 2024-07-18 15:04:31,636] Trial 40 finished with value: 87.06611581237783 and parameters: {'learning_rate': 0.06951959869752104, 'max_depth': 8, 'l1_reg': 4.73036296385617, 'l2_reg': 8.133090723571808}. Best is trial 25 with value: 86.01571671284275.\n"
     ]
    },
    {
     "name": "stderr",
     "output_type": "stream",
     "text": [
      "Best trial: 25. Best value: 86.0157:  42%|████▏     | 42/100 [00:13<00:31,  1.86it/s]"
     ]
    },
    {
     "name": "stdout",
     "output_type": "stream",
     "text": [
      "[I 2024-07-18 15:04:32,304] Trial 41 finished with value: 87.37832307196604 and parameters: {'learning_rate': 0.06808931313217716, 'max_depth': 8, 'l1_reg': 4.96607121226642, 'l2_reg': 8.455423966557571}. Best is trial 25 with value: 86.01571671284275.\n"
     ]
    },
    {
     "name": "stderr",
     "output_type": "stream",
     "text": [
      "Best trial: 25. Best value: 86.0157:  43%|████▎     | 43/100 [00:14<00:33,  1.69it/s]"
     ]
    },
    {
     "name": "stdout",
     "output_type": "stream",
     "text": [
      "[I 2024-07-18 15:04:33,033] Trial 42 finished with value: 90.55198375282896 and parameters: {'learning_rate': 0.03593257728449602, 'max_depth': 8, 'l1_reg': 5.869728928561656, 'l2_reg': 8.415213921626755}. Best is trial 25 with value: 86.01571671284275.\n"
     ]
    },
    {
     "name": "stderr",
     "output_type": "stream",
     "text": [
      "Best trial: 25. Best value: 86.0157:  44%|████▍     | 44/100 [00:15<00:39,  1.42it/s]"
     ]
    },
    {
     "name": "stdout",
     "output_type": "stream",
     "text": [
      "[I 2024-07-18 15:04:33,993] Trial 43 finished with value: 99.4845500207349 and parameters: {'learning_rate': 0.02404476239524459, 'max_depth': 8, 'l1_reg': 5.213191383467134, 'l2_reg': 8.262509488762282}. Best is trial 25 with value: 86.01571671284275.\n"
     ]
    },
    {
     "name": "stderr",
     "output_type": "stream",
     "text": [
      "Best trial: 25. Best value: 86.0157:  45%|████▌     | 45/100 [00:15<00:36,  1.50it/s]"
     ]
    },
    {
     "name": "stdout",
     "output_type": "stream",
     "text": [
      "[I 2024-07-18 15:04:34,583] Trial 44 finished with value: 89.4263137012336 and parameters: {'learning_rate': 0.07852231134088922, 'max_depth': 7, 'l1_reg': 4.913146153885878, 'l2_reg': 9.107800124239535}. Best is trial 25 with value: 86.01571671284275.\n"
     ]
    },
    {
     "name": "stderr",
     "output_type": "stream",
     "text": [
      "Best trial: 25. Best value: 86.0157:  46%|████▌     | 46/100 [00:16<00:37,  1.44it/s]"
     ]
    },
    {
     "name": "stdout",
     "output_type": "stream",
     "text": [
      "[I 2024-07-18 15:04:35,336] Trial 45 finished with value: 146.65270301160413 and parameters: {'learning_rate': 0.011051923948244283, 'max_depth': 8, 'l1_reg': 5.291758480950719, 'l2_reg': 7.24602942356703}. Best is trial 25 with value: 86.01571671284275.\n"
     ]
    },
    {
     "name": "stderr",
     "output_type": "stream",
     "text": [
      "Best trial: 25. Best value: 86.0157:  47%|████▋     | 47/100 [00:17<00:33,  1.59it/s]"
     ]
    },
    {
     "name": "stdout",
     "output_type": "stream",
     "text": [
      "[I 2024-07-18 15:04:35,808] Trial 46 finished with value: 88.55611806080273 and parameters: {'learning_rate': 0.14387584245978302, 'max_depth': 7, 'l1_reg': 6.243992362641624, 'l2_reg': 9.864689215738284}. Best is trial 25 with value: 86.01571671284275.\n"
     ]
    },
    {
     "name": "stderr",
     "output_type": "stream",
     "text": [
      "Best trial: 25. Best value: 86.0157:  48%|████▊     | 48/100 [00:17<00:26,  1.99it/s]"
     ]
    },
    {
     "name": "stdout",
     "output_type": "stream",
     "text": [
      "[I 2024-07-18 15:04:36,021] Trial 47 finished with value: 98.47432105100339 and parameters: {'learning_rate': 0.8604439568607256, 'max_depth': 7, 'l1_reg': 4.658772939572157, 'l2_reg': 8.13065904983633}. Best is trial 25 with value: 86.01571671284275.\n"
     ]
    },
    {
     "name": "stderr",
     "output_type": "stream",
     "text": [
      "Best trial: 25. Best value: 86.0157:  49%|████▉     | 49/100 [00:18<00:28,  1.77it/s]"
     ]
    },
    {
     "name": "stdout",
     "output_type": "stream",
     "text": [
      "[I 2024-07-18 15:04:36,722] Trial 48 finished with value: 92.22823419346923 and parameters: {'learning_rate': 0.03240585004237566, 'max_depth': 8, 'l1_reg': 3.836157544830775, 'l2_reg': 8.617770523068199}. Best is trial 25 with value: 86.01571671284275.\n"
     ]
    },
    {
     "name": "stderr",
     "output_type": "stream",
     "text": [
      "Best trial: 25. Best value: 86.0157:  50%|█████     | 50/100 [00:18<00:30,  1.66it/s]"
     ]
    },
    {
     "name": "stdout",
     "output_type": "stream",
     "text": [
      "[I 2024-07-18 15:04:37,432] Trial 49 finished with value: 316.1569645247491 and parameters: {'learning_rate': 0.00012191512592533216, 'max_depth': 8, 'l1_reg': 5.88296385889844, 'l2_reg': 7.140876059107464}. Best is trial 25 with value: 86.01571671284275.\n"
     ]
    },
    {
     "name": "stderr",
     "output_type": "stream",
     "text": [
      "Best trial: 25. Best value: 86.0157:  51%|█████     | 51/100 [00:19<00:25,  1.91it/s]"
     ]
    },
    {
     "name": "stdout",
     "output_type": "stream",
     "text": [
      "[I 2024-07-18 15:04:37,748] Trial 50 finished with value: 250.3043800732131 and parameters: {'learning_rate': 0.003367620420368114, 'max_depth': 4, 'l1_reg': 5.375597651660012, 'l2_reg': 9.522761891949374}. Best is trial 25 with value: 86.01571671284275.\n"
     ]
    },
    {
     "name": "stderr",
     "output_type": "stream",
     "text": [
      "Best trial: 25. Best value: 86.0157:  52%|█████▏    | 52/100 [00:19<00:27,  1.74it/s]"
     ]
    },
    {
     "name": "stdout",
     "output_type": "stream",
     "text": [
      "[I 2024-07-18 15:04:38,453] Trial 51 finished with value: 87.49664539652599 and parameters: {'learning_rate': 0.06841900454654558, 'max_depth': 8, 'l1_reg': 4.632789882643986, 'l2_reg': 7.813898679582536}. Best is trial 25 with value: 86.01571671284275.\n"
     ]
    },
    {
     "name": "stderr",
     "output_type": "stream",
     "text": [
      "Best trial: 25. Best value: 86.0157:  53%|█████▎    | 53/100 [00:20<00:28,  1.63it/s]"
     ]
    },
    {
     "name": "stdout",
     "output_type": "stream",
     "text": [
      "[I 2024-07-18 15:04:39,154] Trial 52 finished with value: 86.85076481322322 and parameters: {'learning_rate': 0.10020069612666127, 'max_depth': 8, 'l1_reg': 4.843986584881274, 'l2_reg': 8.058935853824792}. Best is trial 25 with value: 86.01571671284275.\n"
     ]
    },
    {
     "name": "stderr",
     "output_type": "stream",
     "text": [
      "Best trial: 25. Best value: 86.0157:  54%|█████▍    | 54/100 [00:21<00:30,  1.53it/s]"
     ]
    },
    {
     "name": "stdout",
     "output_type": "stream",
     "text": [
      "[I 2024-07-18 15:04:39,913] Trial 53 finished with value: 87.74161490502354 and parameters: {'learning_rate': 0.05618243949509, 'max_depth': 8, 'l1_reg': 4.698875237699504, 'l2_reg': 7.804286272508066}. Best is trial 25 with value: 86.01571671284275.\n"
     ]
    },
    {
     "name": "stderr",
     "output_type": "stream",
     "text": [
      "Best trial: 25. Best value: 86.0157:  55%|█████▌    | 55/100 [00:21<00:29,  1.53it/s]"
     ]
    },
    {
     "name": "stdout",
     "output_type": "stream",
     "text": [
      "[I 2024-07-18 15:04:40,556] Trial 54 finished with value: 86.63000414044947 and parameters: {'learning_rate': 0.10383548157103129, 'max_depth': 8, 'l1_reg': 4.227316293905712, 'l2_reg': 8.795849619241684}. Best is trial 25 with value: 86.01571671284275.\n"
     ]
    },
    {
     "name": "stderr",
     "output_type": "stream",
     "text": [
      "Best trial: 25. Best value: 86.0157:  56%|█████▌    | 56/100 [00:22<00:28,  1.57it/s]"
     ]
    },
    {
     "name": "stdout",
     "output_type": "stream",
     "text": [
      "[I 2024-07-18 15:04:41,163] Trial 55 finished with value: 86.58791844943858 and parameters: {'learning_rate': 0.11630960839039771, 'max_depth': 8, 'l1_reg': 4.293499860557537, 'l2_reg': 8.736492032489101}. Best is trial 25 with value: 86.01571671284275.\n"
     ]
    },
    {
     "name": "stderr",
     "output_type": "stream",
     "text": [
      "Best trial: 25. Best value: 86.0157:  57%|█████▋    | 57/100 [00:23<00:29,  1.44it/s]"
     ]
    },
    {
     "name": "stdout",
     "output_type": "stream",
     "text": [
      "[I 2024-07-18 15:04:41,993] Trial 56 finished with value: 86.52753080062679 and parameters: {'learning_rate': 0.11997456250342617, 'max_depth': 8, 'l1_reg': 4.161145627749876, 'l2_reg': 8.745840595293014}. Best is trial 25 with value: 86.01571671284275.\n"
     ]
    },
    {
     "name": "stderr",
     "output_type": "stream",
     "text": [
      "Best trial: 25. Best value: 86.0157:  58%|█████▊    | 58/100 [00:23<00:28,  1.48it/s]"
     ]
    },
    {
     "name": "stdout",
     "output_type": "stream",
     "text": [
      "[I 2024-07-18 15:04:42,607] Trial 57 finished with value: 86.51282747360003 and parameters: {'learning_rate': 0.13044324890178616, 'max_depth': 8, 'l1_reg': 4.233531064654945, 'l2_reg': 8.841898458655598}. Best is trial 25 with value: 86.01571671284275.\n"
     ]
    },
    {
     "name": "stderr",
     "output_type": "stream",
     "text": [
      "Best trial: 25. Best value: 86.0157:  59%|█████▉    | 59/100 [00:24<00:26,  1.52it/s]"
     ]
    },
    {
     "name": "stdout",
     "output_type": "stream",
     "text": [
      "[I 2024-07-18 15:04:43,238] Trial 58 finished with value: 86.25885964513736 and parameters: {'learning_rate': 0.13100510252181283, 'max_depth': 8, 'l1_reg': 4.0131886337587765, 'l2_reg': 8.76582468756223}. Best is trial 25 with value: 86.01571671284275.\n"
     ]
    },
    {
     "name": "stderr",
     "output_type": "stream",
     "text": [
      "Best trial: 25. Best value: 86.0157:  60%|██████    | 60/100 [00:24<00:22,  1.81it/s]"
     ]
    },
    {
     "name": "stdout",
     "output_type": "stream",
     "text": [
      "[I 2024-07-18 15:04:43,543] Trial 59 finished with value: 88.96278341843602 and parameters: {'learning_rate': 0.3628960447132708, 'max_depth': 8, 'l1_reg': 4.14319088507247, 'l2_reg': 8.81943902206646}. Best is trial 25 with value: 86.01571671284275.\n"
     ]
    },
    {
     "name": "stderr",
     "output_type": "stream",
     "text": [
      "Best trial: 25. Best value: 86.0157:  61%|██████    | 61/100 [00:25<00:22,  1.76it/s]"
     ]
    },
    {
     "name": "stdout",
     "output_type": "stream",
     "text": [
      "[I 2024-07-18 15:04:44,155] Trial 60 finished with value: 86.56230691129304 and parameters: {'learning_rate': 0.14812474502121106, 'max_depth': 8, 'l1_reg': 3.891112661176534, 'l2_reg': 9.423803901981557}. Best is trial 25 with value: 86.01571671284275.\n"
     ]
    },
    {
     "name": "stderr",
     "output_type": "stream",
     "text": [
      "Best trial: 25. Best value: 86.0157:  62%|██████▏   | 62/100 [00:25<00:21,  1.79it/s]"
     ]
    },
    {
     "name": "stdout",
     "output_type": "stream",
     "text": [
      "[I 2024-07-18 15:04:44,689] Trial 61 finished with value: 86.37716323266262 and parameters: {'learning_rate': 0.14712963295019643, 'max_depth': 8, 'l1_reg': 3.6878000966161353, 'l2_reg': 9.388904084482046}. Best is trial 25 with value: 86.01571671284275.\n"
     ]
    },
    {
     "name": "stderr",
     "output_type": "stream",
     "text": [
      "Best trial: 25. Best value: 86.0157:  63%|██████▎   | 63/100 [00:26<00:20,  1.80it/s]"
     ]
    },
    {
     "name": "stdout",
     "output_type": "stream",
     "text": [
      "[I 2024-07-18 15:04:45,234] Trial 62 finished with value: 87.31040471100026 and parameters: {'learning_rate': 0.14592107236340532, 'max_depth': 8, 'l1_reg': 3.7310496314591806, 'l2_reg': 9.562450271003673}. Best is trial 25 with value: 86.01571671284275.\n"
     ]
    },
    {
     "name": "stderr",
     "output_type": "stream",
     "text": [
      "Best trial: 25. Best value: 86.0157:  64%|██████▍   | 64/100 [00:26<00:18,  1.91it/s]"
     ]
    },
    {
     "name": "stdout",
     "output_type": "stream",
     "text": [
      "[I 2024-07-18 15:04:45,689] Trial 63 finished with value: 87.44182361995148 and parameters: {'learning_rate': 0.23922036979253705, 'max_depth': 8, 'l1_reg': 2.809352248412327, 'l2_reg': 9.343292830106153}. Best is trial 25 with value: 86.01571671284275.\n"
     ]
    },
    {
     "name": "stderr",
     "output_type": "stream",
     "text": [
      "Best trial: 25. Best value: 86.0157:  65%|██████▌   | 65/100 [00:27<00:19,  1.83it/s]"
     ]
    },
    {
     "name": "stdout",
     "output_type": "stream",
     "text": [
      "[I 2024-07-18 15:04:46,291] Trial 64 finished with value: 313.8768447209524 and parameters: {'learning_rate': 0.0002081457692117038, 'max_depth': 8, 'l1_reg': 3.0017753611817177, 'l2_reg': 9.753268805451729}. Best is trial 25 with value: 86.01571671284275.\n"
     ]
    },
    {
     "name": "stderr",
     "output_type": "stream",
     "text": [
      "Best trial: 25. Best value: 86.0157:  66%|██████▌   | 66/100 [00:27<00:17,  1.97it/s]"
     ]
    },
    {
     "name": "stdout",
     "output_type": "stream",
     "text": [
      "[I 2024-07-18 15:04:46,686] Trial 65 finished with value: 87.85134455638953 and parameters: {'learning_rate': 0.3321241282447822, 'max_depth': 7, 'l1_reg': 3.704807366606223, 'l2_reg': 9.149344712549556}. Best is trial 25 with value: 86.01571671284275.\n"
     ]
    },
    {
     "name": "stderr",
     "output_type": "stream",
     "text": [
      "                                                                                     "
     ]
    },
    {
     "name": "stdout",
     "output_type": "stream",
     "text": [
      "[I 2024-07-18 15:04:47,278] Trial 66 finished with value: 86.75476175151991 and parameters: {'learning_rate': 0.14172644139156268, 'max_depth': 8, 'l1_reg': 3.947671536189314, 'l2_reg': 8.756294127384198}. Best is trial 25 with value: 86.01571671284275.\n"
     ]
    },
    {
     "name": "stderr",
     "output_type": "stream",
     "text": [
      "                                                                                     "
     ]
    },
    {
     "name": "stdout",
     "output_type": "stream",
     "text": [
      "[I 2024-07-18 15:04:47,468] Trial 67 finished with value: 94.94835898838477 and parameters: {'learning_rate': 0.6175779908385033, 'max_depth': 7, 'l1_reg': 3.128605492271389, 'l2_reg': 9.351103730114552}. Best is trial 25 with value: 86.01571671284275.\n"
     ]
    },
    {
     "name": "stderr",
     "output_type": "stream",
     "text": [
      "Best trial: 25. Best value: 86.0157:  69%|██████▉   | 69/100 [00:28<00:11,  2.81it/s]"
     ]
    },
    {
     "name": "stdout",
     "output_type": "stream",
     "text": [
      "[I 2024-07-18 15:04:47,653] Trial 68 finished with value: 107.30705583079397 and parameters: {'learning_rate': 1.3801773577945415, 'max_depth': 8, 'l1_reg': 4.2706478081557755, 'l2_reg': 7.4387198461800494}. Best is trial 25 with value: 86.01571671284275.\n"
     ]
    },
    {
     "name": "stderr",
     "output_type": "stream",
     "text": [
      "Best trial: 25. Best value: 86.0157:  70%|███████   | 70/100 [00:29<00:13,  2.31it/s]"
     ]
    },
    {
     "name": "stdout",
     "output_type": "stream",
     "text": [
      "[I 2024-07-18 15:04:48,274] Trial 69 finished with value: 86.12976792333212 and parameters: {'learning_rate': 0.17736657935013136, 'max_depth': 8, 'l1_reg': 3.5556904236463, 'l2_reg': 9.007618515003195}. Best is trial 25 with value: 86.01571671284275.\n"
     ]
    },
    {
     "name": "stderr",
     "output_type": "stream",
     "text": [
      "Best trial: 25. Best value: 86.0157:  71%|███████   | 71/100 [00:30<00:13,  2.15it/s]"
     ]
    },
    {
     "name": "stdout",
     "output_type": "stream",
     "text": [
      "[I 2024-07-18 15:04:48,806] Trial 70 finished with value: 87.87773664402897 and parameters: {'learning_rate': 0.18221702590792604, 'max_depth': 7, 'l1_reg': 2.1427055582188297, 'l2_reg': 9.034803500157023}. Best is trial 25 with value: 86.01571671284275.\n"
     ]
    },
    {
     "name": "stderr",
     "output_type": "stream",
     "text": [
      "Best trial: 25. Best value: 86.0157:  72%|███████▏  | 72/100 [00:30<00:14,  1.97it/s]"
     ]
    },
    {
     "name": "stdout",
     "output_type": "stream",
     "text": [
      "[I 2024-07-18 15:04:49,422] Trial 71 finished with value: 86.36090994963388 and parameters: {'learning_rate': 0.19284915394168692, 'max_depth': 8, 'l1_reg': 3.352428574366874, 'l2_reg': 9.57105758550647}. Best is trial 25 with value: 86.01571671284275.\n"
     ]
    },
    {
     "name": "stderr",
     "output_type": "stream",
     "text": [
      "Best trial: 72. Best value: 85.9244:  73%|███████▎  | 73/100 [00:31<00:14,  1.87it/s]"
     ]
    },
    {
     "name": "stdout",
     "output_type": "stream",
     "text": [
      "[I 2024-07-18 15:04:50,024] Trial 72 finished with value: 85.92441595470564 and parameters: {'learning_rate': 0.28968938400288985, 'max_depth': 8, 'l1_reg': 3.3280242942293206, 'l2_reg': 9.422905708194731}. Best is trial 72 with value: 85.92441595470564.\n"
     ]
    },
    {
     "name": "stderr",
     "output_type": "stream",
     "text": [
      "Best trial: 72. Best value: 85.9244:  74%|███████▍  | 74/100 [00:31<00:14,  1.79it/s]"
     ]
    },
    {
     "name": "stdout",
     "output_type": "stream",
     "text": [
      "[I 2024-07-18 15:04:50,638] Trial 73 finished with value: 87.26787886333831 and parameters: {'learning_rate': 0.3124013670864721, 'max_depth': 8, 'l1_reg': 2.3873744768218264, 'l2_reg': 9.88304262434107}. Best is trial 72 with value: 85.92441595470564.\n"
     ]
    },
    {
     "name": "stderr",
     "output_type": "stream",
     "text": [
      "Best trial: 72. Best value: 85.9244:  75%|███████▌  | 75/100 [00:32<00:12,  1.95it/s]"
     ]
    },
    {
     "name": "stdout",
     "output_type": "stream",
     "text": [
      "[I 2024-07-18 15:04:51,024] Trial 74 finished with value: 88.03481783055473 and parameters: {'learning_rate': 0.47373880613561975, 'max_depth': 8, 'l1_reg': 3.482484664290318, 'l2_reg': 9.178906875056066}. Best is trial 72 with value: 85.92441595470564.\n"
     ]
    },
    {
     "name": "stderr",
     "output_type": "stream",
     "text": [
      "Best trial: 72. Best value: 85.9244:  76%|███████▌  | 76/100 [00:32<00:10,  2.24it/s]"
     ]
    },
    {
     "name": "stdout",
     "output_type": "stream",
     "text": [
      "[I 2024-07-18 15:04:51,327] Trial 75 finished with value: 93.48318152661983 and parameters: {'learning_rate': 0.668016993706392, 'max_depth': 8, 'l1_reg': 1.7265771518279218, 'l2_reg': 9.640090687637377}. Best is trial 72 with value: 85.92441595470564.\n"
     ]
    },
    {
     "name": "stderr",
     "output_type": "stream",
     "text": [
      "Best trial: 72. Best value: 85.9244:  77%|███████▋  | 77/100 [00:33<00:11,  1.92it/s]"
     ]
    },
    {
     "name": "stdout",
     "output_type": "stream",
     "text": [
      "[I 2024-07-18 15:04:52,023] Trial 76 finished with value: 89.00999560171084 and parameters: {'learning_rate': 0.04461086761614321, 'max_depth': 8, 'l1_reg': 3.185555766089943, 'l2_reg': 8.388218813532932}. Best is trial 72 with value: 85.92441595470564.\n"
     ]
    },
    {
     "name": "stderr",
     "output_type": "stream",
     "text": [
      "Best trial: 72. Best value: 85.9244:  78%|███████▊  | 78/100 [00:33<00:10,  2.16it/s]"
     ]
    },
    {
     "name": "stdout",
     "output_type": "stream",
     "text": [
      "[I 2024-07-18 15:04:52,348] Trial 77 finished with value: 93.85015651941303 and parameters: {'learning_rate': 0.23961270706749985, 'max_depth': 5, 'l1_reg': 3.480989357543157, 'l2_reg': 9.959622000817848}. Best is trial 72 with value: 85.92441595470564.\n"
     ]
    },
    {
     "name": "stderr",
     "output_type": "stream",
     "text": [
      "Best trial: 72. Best value: 85.9244:  79%|███████▉  | 79/100 [00:33<00:08,  2.59it/s]"
     ]
    },
    {
     "name": "stdout",
     "output_type": "stream",
     "text": [
      "[I 2024-07-18 15:04:52,555] Trial 78 finished with value: 103.66113133265681 and parameters: {'learning_rate': 1.044721468283731, 'max_depth': 8, 'l1_reg': 2.7050729178354187, 'l2_reg': 8.574832217626769}. Best is trial 72 with value: 85.92441595470564.\n"
     ]
    },
    {
     "name": "stderr",
     "output_type": "stream",
     "text": [
      "Best trial: 72. Best value: 85.9244:  80%|████████  | 80/100 [00:34<00:08,  2.46it/s]"
     ]
    },
    {
     "name": "stdout",
     "output_type": "stream",
     "text": [
      "[I 2024-07-18 15:04:53,004] Trial 79 finished with value: 86.37335049527161 and parameters: {'learning_rate': 0.19160735494545192, 'max_depth': 8, 'l1_reg': 9.636871477310159, 'l2_reg': 9.023312802736214}. Best is trial 72 with value: 85.92441595470564.\n"
     ]
    },
    {
     "name": "stderr",
     "output_type": "stream",
     "text": [
      "Best trial: 72. Best value: 85.9244:  81%|████████  | 81/100 [00:34<00:07,  2.38it/s]"
     ]
    },
    {
     "name": "stdout",
     "output_type": "stream",
     "text": [
      "[I 2024-07-18 15:04:53,454] Trial 80 finished with value: 87.73308243840135 and parameters: {'learning_rate': 0.19687646576601228, 'max_depth': 8, 'l1_reg': 9.963862972127288, 'l2_reg': 8.954078929788372}. Best is trial 72 with value: 85.92441595470564.\n"
     ]
    },
    {
     "name": "stderr",
     "output_type": "stream",
     "text": [
      "Best trial: 72. Best value: 85.9244:  82%|████████▏ | 82/100 [00:35<00:08,  2.02it/s]"
     ]
    },
    {
     "name": "stdout",
     "output_type": "stream",
     "text": [
      "[I 2024-07-18 15:04:54,125] Trial 81 finished with value: 86.94958305343475 and parameters: {'learning_rate': 0.09670223397936081, 'max_depth': 8, 'l1_reg': 7.243667643007605, 'l2_reg': 9.310955256195335}. Best is trial 72 with value: 85.92441595470564.\n"
     ]
    },
    {
     "name": "stderr",
     "output_type": "stream",
     "text": [
      "Best trial: 72. Best value: 85.9244:  83%|████████▎ | 83/100 [00:36<00:08,  1.91it/s]"
     ]
    },
    {
     "name": "stdout",
     "output_type": "stream",
     "text": [
      "[I 2024-07-18 15:04:54,725] Trial 82 finished with value: 86.98112876976072 and parameters: {'learning_rate': 0.25968842889480653, 'max_depth': 8, 'l1_reg': 3.6467162492854115, 'l2_reg': 9.67622887133097}. Best is trial 72 with value: 85.92441595470564.\n"
     ]
    },
    {
     "name": "stderr",
     "output_type": "stream",
     "text": [
      "Best trial: 72. Best value: 85.9244:  84%|████████▍ | 84/100 [00:36<00:07,  2.08it/s]"
     ]
    },
    {
     "name": "stdout",
     "output_type": "stream",
     "text": [
      "[I 2024-07-18 15:04:55,108] Trial 83 finished with value: 88.94242340593732 and parameters: {'learning_rate': 0.3691947241668995, 'max_depth': 8, 'l1_reg': 8.542228245632277, 'l2_reg': 7.918919249110787}. Best is trial 72 with value: 85.92441595470564.\n"
     ]
    },
    {
     "name": "stderr",
     "output_type": "stream",
     "text": [
      "Best trial: 72. Best value: 85.9244:  85%|████████▌ | 85/100 [00:36<00:07,  2.06it/s]"
     ]
    },
    {
     "name": "stdout",
     "output_type": "stream",
     "text": [
      "[I 2024-07-18 15:04:55,602] Trial 84 finished with value: 86.6444981467353 and parameters: {'learning_rate': 0.1689089256095975, 'max_depth': 8, 'l1_reg': 9.383823278463332, 'l2_reg': 8.974349994451707}. Best is trial 72 with value: 85.92441595470564.\n"
     ]
    },
    {
     "name": "stderr",
     "output_type": "stream",
     "text": [
      "Best trial: 72. Best value: 85.9244:  86%|████████▌ | 86/100 [00:37<00:07,  1.85it/s]"
     ]
    },
    {
     "name": "stdout",
     "output_type": "stream",
     "text": [
      "[I 2024-07-18 15:04:56,261] Trial 85 finished with value: 97.2517846465304 and parameters: {'learning_rate': 0.025324999987731033, 'max_depth': 8, 'l1_reg': 5.17466851520234, 'l2_reg': 7.572454888752813}. Best is trial 72 with value: 85.92441595470564.\n"
     ]
    },
    {
     "name": "stderr",
     "output_type": "stream",
     "text": [
      "Best trial: 72. Best value: 85.9244:  87%|████████▋ | 87/100 [00:37<00:06,  2.01it/s]"
     ]
    },
    {
     "name": "stdout",
     "output_type": "stream",
     "text": [
      "[I 2024-07-18 15:04:56,659] Trial 86 finished with value: 89.09376943744257 and parameters: {'learning_rate': 0.4800417167961465, 'max_depth': 8, 'l1_reg': 4.035393275300594, 'l2_reg': 8.282146207290339}. Best is trial 72 with value: 85.92441595470564.\n"
     ]
    },
    {
     "name": "stderr",
     "output_type": "stream",
     "text": [
      "Best trial: 72. Best value: 85.9244:  88%|████████▊ | 88/100 [00:38<00:06,  1.82it/s]"
     ]
    },
    {
     "name": "stdout",
     "output_type": "stream",
     "text": [
      "[I 2024-07-18 15:04:57,321] Trial 87 finished with value: 86.96244853380038 and parameters: {'learning_rate': 0.11568636648957231, 'max_depth': 8, 'l1_reg': 2.9672306287971537, 'l2_reg': 8.580118813764228}. Best is trial 72 with value: 85.92441595470564.\n"
     ]
    },
    {
     "name": "stderr",
     "output_type": "stream",
     "text": [
      "Best trial: 72. Best value: 85.9244:  89%|████████▉ | 89/100 [00:39<00:05,  1.87it/s]"
     ]
    },
    {
     "name": "stdout",
     "output_type": "stream",
     "text": [
      "[I 2024-07-18 15:04:57,842] Trial 88 finished with value: 93.06655672022994 and parameters: {'learning_rate': 0.03937905062155198, 'max_depth': 7, 'l1_reg': 3.331271253731299, 'l2_reg': 9.50146776561089}. Best is trial 72 with value: 85.92441595470564.\n"
     ]
    },
    {
     "name": "stderr",
     "output_type": "stream",
     "text": [
      "Best trial: 72. Best value: 85.9244:  90%|█████████ | 90/100 [00:39<00:04,  2.07it/s]"
     ]
    },
    {
     "name": "stdout",
     "output_type": "stream",
     "text": [
      "[I 2024-07-18 15:04:58,202] Trial 89 finished with value: 88.44238351996431 and parameters: {'learning_rate': 0.3064149433727764, 'max_depth': 8, 'l1_reg': 7.917992579192496, 'l2_reg': 9.181643290666445}. Best is trial 72 with value: 85.92441595470564.\n"
     ]
    },
    {
     "name": "stderr",
     "output_type": "stream",
     "text": [
      "Best trial: 72. Best value: 85.9244:  91%|█████████ | 91/100 [00:40<00:04,  2.00it/s]"
     ]
    },
    {
     "name": "stdout",
     "output_type": "stream",
     "text": [
      "[I 2024-07-18 15:04:58,725] Trial 90 finished with value: 89.21388047703364 and parameters: {'learning_rate': 0.0929842006131116, 'max_depth': 7, 'l1_reg': 4.432125258924589, 'l2_reg': 3.818713353198839}. Best is trial 72 with value: 85.92441595470564.\n"
     ]
    },
    {
     "name": "stderr",
     "output_type": "stream",
     "text": [
      "Best trial: 72. Best value: 85.9244:  92%|█████████▏| 92/100 [00:40<00:03,  2.04it/s]"
     ]
    },
    {
     "name": "stdout",
     "output_type": "stream",
     "text": [
      "[I 2024-07-18 15:04:59,204] Trial 91 finished with value: 87.20987765624325 and parameters: {'learning_rate': 0.16457841890145578, 'max_depth': 8, 'l1_reg': 3.86798856735515, 'l2_reg': 9.462055651186693}. Best is trial 72 with value: 85.92441595470564.\n"
     ]
    },
    {
     "name": "stderr",
     "output_type": "stream",
     "text": [
      "Best trial: 72. Best value: 85.9244:  93%|█████████▎| 93/100 [00:40<00:03,  2.05it/s]"
     ]
    },
    {
     "name": "stdout",
     "output_type": "stream",
     "text": [
      "[I 2024-07-18 15:04:59,678] Trial 92 finished with value: 88.03209075469074 and parameters: {'learning_rate': 0.13957754458217156, 'max_depth': 8, 'l1_reg': 4.046041424837226, 'l2_reg': 8.916090706702565}. Best is trial 72 with value: 85.92441595470564.\n"
     ]
    },
    {
     "name": "stderr",
     "output_type": "stream",
     "text": [
      "Best trial: 93. Best value: 85.4385:  94%|█████████▍| 94/100 [00:41<00:03,  1.90it/s]"
     ]
    },
    {
     "name": "stdout",
     "output_type": "stream",
     "text": [
      "[I 2024-07-18 15:05:00,309] Trial 93 finished with value: 85.43852383576491 and parameters: {'learning_rate': 0.20666065449597942, 'max_depth': 8, 'l1_reg': 4.446003894089376, 'l2_reg': 9.682466192327775}. Best is trial 93 with value: 85.43852383576491.\n"
     ]
    },
    {
     "name": "stderr",
     "output_type": "stream",
     "text": [
      "Best trial: 93. Best value: 85.4385:  95%|█████████▌| 95/100 [00:42<00:02,  1.89it/s]"
     ]
    },
    {
     "name": "stdout",
     "output_type": "stream",
     "text": [
      "[I 2024-07-18 15:05:00,824] Trial 94 finished with value: 86.23964689312129 and parameters: {'learning_rate': 0.22791309272377747, 'max_depth': 8, 'l1_reg': 5.085055065856688, 'l2_reg': 9.960607672782714}. Best is trial 93 with value: 85.43852383576491.\n"
     ]
    },
    {
     "name": "stderr",
     "output_type": "stream",
     "text": [
      "Best trial: 93. Best value: 85.4385:  96%|█████████▌| 96/100 [00:42<00:02,  1.82it/s]"
     ]
    },
    {
     "name": "stdout",
     "output_type": "stream",
     "text": [
      "[I 2024-07-18 15:05:01,425] Trial 95 finished with value: 86.66036501122942 and parameters: {'learning_rate': 0.19724488526762485, 'max_depth': 8, 'l1_reg': 6.395036188474816, 'l2_reg': 9.999340409004922}. Best is trial 93 with value: 85.43852383576491.\n"
     ]
    },
    {
     "name": "stderr",
     "output_type": "stream",
     "text": [
      "Best trial: 93. Best value: 85.4385:  97%|█████████▋| 97/100 [00:43<00:01,  2.07it/s]"
     ]
    },
    {
     "name": "stdout",
     "output_type": "stream",
     "text": [
      "[I 2024-07-18 15:05:01,769] Trial 96 finished with value: 88.69906489898433 and parameters: {'learning_rate': 0.43327437109063016, 'max_depth': 8, 'l1_reg': 5.49677112706567, 'l2_reg': 9.755833573012636}. Best is trial 93 with value: 85.43852383576491.\n"
     ]
    },
    {
     "name": "stderr",
     "output_type": "stream",
     "text": [
      "                                                                                     "
     ]
    },
    {
     "name": "stdout",
     "output_type": "stream",
     "text": [
      "[I 2024-07-18 15:05:02,165] Trial 97 finished with value: 89.41149915500445 and parameters: {'learning_rate': 0.27670053616643703, 'max_depth': 6, 'l1_reg': 0.18292864116364527, 'l2_reg': 9.682008312760255}. Best is trial 93 with value: 85.43852383576491.\n"
     ]
    },
    {
     "name": "stderr",
     "output_type": "stream",
     "text": [
      "Best trial: 93. Best value: 85.4385:  99%|█████████▉| 99/100 [00:43<00:00,  2.60it/s]"
     ]
    },
    {
     "name": "stdout",
     "output_type": "stream",
     "text": [
      "[I 2024-07-18 15:05:02,366] Trial 98 finished with value: 97.06031216318439 and parameters: {'learning_rate': 0.8721436872656166, 'max_depth': 8, 'l1_reg': 5.034149479811252, 'l2_reg': 9.10564035397918}. Best is trial 93 with value: 85.43852383576491.\n"
     ]
    },
    {
     "name": "stderr",
     "output_type": "stream",
     "text": [
      "Best trial: 93. Best value: 85.4385: 100%|██████████| 100/100 [00:44<00:00,  2.26it/s]"
     ]
    },
    {
     "name": "stdout",
     "output_type": "stream",
     "text": [
      "[I 2024-07-18 15:05:03,025] Trial 99 finished with value: 87.05614766276234 and parameters: {'learning_rate': 0.08765114021866122, 'max_depth': 8, 'l1_reg': 4.44849013399636, 'l2_reg': 9.298214919044092}. Best is trial 93 with value: 85.43852383576491.\n"
     ]
    },
    {
     "name": "stderr",
     "output_type": "stream",
     "text": [
      "\n"
     ]
    }
   ],
   "source": [
    "study = optuna.create_study()\n",
    "study.optimize(objective, n_trials=100, show_progress_bar=True)"
   ]
  },
  {
   "cell_type": "code",
   "execution_count": 49,
   "metadata": {},
   "outputs": [
    {
     "data": {
      "text/plain": [
       "{'learning_rate': 0.20666065449597942,\n",
       " 'max_depth': 8,\n",
       " 'l1_reg': 4.446003894089376,\n",
       " 'l2_reg': 9.682466192327775}"
      ]
     },
     "execution_count": 49,
     "metadata": {},
     "output_type": "execute_result"
    }
   ],
   "source": [
    "best_params = study.best_params\n",
    "best_params"
   ]
  },
  {
   "cell_type": "code",
   "execution_count": 50,
   "metadata": {},
   "outputs": [
    {
     "name": "stdout",
     "output_type": "stream",
     "text": [
      "[0]\teval-rmse:262.80603\n",
      "[1]\teval-rmse:218.81887\n",
      "[2]\teval-rmse:185.41559\n",
      "[3]\teval-rmse:159.64383\n",
      "[4]\teval-rmse:141.09362\n",
      "[5]\teval-rmse:126.85112\n"
     ]
    },
    {
     "name": "stdout",
     "output_type": "stream",
     "text": [
      "[6]\teval-rmse:116.20405\n",
      "[7]\teval-rmse:108.84511\n",
      "[8]\teval-rmse:103.44009\n",
      "[9]\teval-rmse:99.73467\n",
      "[10]\teval-rmse:96.78771\n",
      "[11]\teval-rmse:94.56024\n",
      "[12]\teval-rmse:93.41001\n",
      "[13]\teval-rmse:92.19783\n"
     ]
    },
    {
     "name": "stderr",
     "output_type": "stream",
     "text": [
      "c:\\Users\\lcsvi\\OneDrive\\Escritorio\\Pyth\\Data Analysis\\datos\\Lib\\site-packages\\xgboost\\core.py:158: UserWarning: [15:05:03] WARNING: C:\\buildkite-agent\\builds\\buildkite-windows-cpu-autoscaling-group-i-06abd128ca6c1688d-1\\xgboost\\xgboost-ci-windows\\src\\learner.cc:740: \n",
      "Parameters: { \"l1_reg\", \"l2_reg\" } are not used.\n",
      "\n",
      "  warnings.warn(smsg, UserWarning)\n"
     ]
    },
    {
     "name": "stdout",
     "output_type": "stream",
     "text": [
      "[14]\teval-rmse:91.48511\n",
      "[15]\teval-rmse:90.77441\n",
      "[16]\teval-rmse:90.50850\n",
      "[17]\teval-rmse:90.24987\n",
      "[18]\teval-rmse:90.19329\n",
      "[19]\teval-rmse:89.92472\n",
      "[20]\teval-rmse:89.50411\n",
      "[21]\teval-rmse:89.38105\n",
      "[22]\teval-rmse:89.26922\n",
      "[23]\teval-rmse:89.27587\n",
      "[24]\teval-rmse:89.34785\n",
      "[25]\teval-rmse:89.15422\n",
      "[26]\teval-rmse:89.08932\n",
      "[27]\teval-rmse:89.05550\n",
      "[28]\teval-rmse:88.87422\n",
      "[29]\teval-rmse:88.73927\n",
      "[30]\teval-rmse:88.76886\n",
      "[31]\teval-rmse:88.68097\n",
      "[32]\teval-rmse:88.68041\n",
      "[33]\teval-rmse:88.59029\n",
      "[34]\teval-rmse:88.58695\n",
      "[35]\teval-rmse:88.59400\n",
      "[36]\teval-rmse:88.53543\n",
      "[37]\teval-rmse:88.55800\n",
      "[38]\teval-rmse:88.55571\n",
      "[39]\teval-rmse:88.40981\n",
      "[40]\teval-rmse:88.43158\n",
      "[41]\teval-rmse:88.35396\n",
      "[42]\teval-rmse:88.40008\n",
      "[43]\teval-rmse:88.46141\n",
      "[44]\teval-rmse:88.52267\n",
      "[45]\teval-rmse:88.61876\n",
      "[46]\teval-rmse:88.52290\n",
      "[47]\teval-rmse:88.44955\n",
      "[48]\teval-rmse:88.47202\n",
      "[49]\teval-rmse:88.43945\n",
      "[50]\teval-rmse:88.39422\n",
      "[51]\teval-rmse:88.31514\n",
      "[52]\teval-rmse:88.20750\n",
      "[53]\teval-rmse:88.14184\n",
      "[54]\teval-rmse:88.12914\n",
      "[55]\teval-rmse:88.05253\n",
      "[56]\teval-rmse:88.05304\n",
      "[57]\teval-rmse:88.08883\n",
      "[58]\teval-rmse:88.09479\n",
      "[59]\teval-rmse:88.03268\n",
      "[60]\teval-rmse:87.99167\n",
      "[61]\teval-rmse:87.98668\n",
      "[62]\teval-rmse:87.86067\n",
      "[63]\teval-rmse:87.80965\n",
      "[64]\teval-rmse:87.68564\n",
      "[65]\teval-rmse:87.66157\n",
      "[66]\teval-rmse:87.67298\n",
      "[67]\teval-rmse:87.64300\n",
      "[68]\teval-rmse:87.66226\n",
      "[69]\teval-rmse:87.83359\n",
      "[70]\teval-rmse:87.82316\n",
      "[71]\teval-rmse:87.85223\n",
      "[72]\teval-rmse:87.84679\n",
      "[73]\teval-rmse:87.83995\n",
      "[74]\teval-rmse:87.86690\n",
      "[75]\teval-rmse:87.82120\n",
      "[76]\teval-rmse:87.86990\n"
     ]
    }
   ],
   "source": [
    "model = xgb.train(best_params, dtrain, num_boost_round=10000, evals=[(dval, 'eval')], early_stopping_rounds=10)"
   ]
  },
  {
   "cell_type": "markdown",
   "metadata": {},
   "source": [
    "Results"
   ]
  },
  {
   "cell_type": "code",
   "execution_count": 51,
   "metadata": {},
   "outputs": [
    {
     "data": {
      "text/plain": [
       "array([1.22, 1.22, 1.21, ..., 1.22, 1.22, 1.24])"
      ]
     },
     "execution_count": 51,
     "metadata": {},
     "output_type": "execute_result"
    }
   ],
   "source": [
    "Y_true = np.array(Y_test, dtype=float) ## our OG Radiation values\n",
    "Y_pred = np.array(model.predict(dtest), dtype=float)\n",
    "Y_true"
   ]
  },
  {
   "cell_type": "code",
   "execution_count": 52,
   "metadata": {},
   "outputs": [
    {
     "name": "stdout",
     "output_type": "stream",
     "text": [
      "R^2 Score: 0.939154 \n"
     ]
    }
   ],
   "source": [
    "r2 = r2_score(Y_true, Y_pred)\n",
    "\n",
    "print('R^2 Score: %4f ' % r2) ## --> formating number 'til 4 digits"
   ]
  },
  {
   "cell_type": "code",
   "execution_count": 53,
   "metadata": {},
   "outputs": [
    {
     "data": {
      "text/plain": [
       "array([ 0.99160218,  9.06472969, -0.96306121, ..., 20.21638489,\n",
       "        2.90693688,  7.18087435])"
      ]
     },
     "execution_count": 53,
     "metadata": {},
     "output_type": "execute_result"
    }
   ],
   "source": [
    "Y_pred"
   ]
  },
  {
   "cell_type": "markdown",
   "metadata": {},
   "source": [
    "Visualization"
   ]
  },
  {
   "cell_type": "code",
   "execution_count": 54,
   "metadata": {},
   "outputs": [],
   "source": [
    "import matplotlib.pyplot as plt # Visualization\n",
    "import seaborn as sns #Visualization\n",
    "from sklearn import datasets, linear_model\n",
    "from sklearn.metrics import mean_squared_error"
   ]
  },
  {
   "cell_type": "code",
   "execution_count": 55,
   "metadata": {},
   "outputs": [
    {
     "data": {
      "text/html": [
       "<div>\n",
       "<style scoped>\n",
       "    .dataframe tbody tr th:only-of-type {\n",
       "        vertical-align: middle;\n",
       "    }\n",
       "\n",
       "    .dataframe tbody tr th {\n",
       "        vertical-align: top;\n",
       "    }\n",
       "\n",
       "    .dataframe thead th {\n",
       "        text-align: right;\n",
       "    }\n",
       "</style>\n",
       "<table border=\"1\" class=\"dataframe\">\n",
       "  <thead>\n",
       "    <tr style=\"text-align: right;\">\n",
       "      <th></th>\n",
       "      <th>UNIXTime</th>\n",
       "      <th>Radiation</th>\n",
       "      <th>Temperature</th>\n",
       "      <th>Pressure</th>\n",
       "      <th>Humidity</th>\n",
       "      <th>WindDirection(Degrees)</th>\n",
       "      <th>Speed</th>\n",
       "      <th>Month</th>\n",
       "      <th>Day</th>\n",
       "      <th>Hour</th>\n",
       "      <th>Minute</th>\n",
       "      <th>Second</th>\n",
       "      <th>SunriseMinute</th>\n",
       "      <th>SunsetHour</th>\n",
       "      <th>SunsetMinute</th>\n",
       "    </tr>\n",
       "  </thead>\n",
       "  <tbody>\n",
       "    <tr>\n",
       "      <th>count</th>\n",
       "      <td>3.268600e+04</td>\n",
       "      <td>32686.000000</td>\n",
       "      <td>32686.000000</td>\n",
       "      <td>32686.000000</td>\n",
       "      <td>32686.000000</td>\n",
       "      <td>32686.000000</td>\n",
       "      <td>32686.000000</td>\n",
       "      <td>32686.000000</td>\n",
       "      <td>32686.000000</td>\n",
       "      <td>32686.000000</td>\n",
       "      <td>32686.000000</td>\n",
       "      <td>32686.000000</td>\n",
       "      <td>32686.000000</td>\n",
       "      <td>32686.000000</td>\n",
       "      <td>32686.000000</td>\n",
       "    </tr>\n",
       "    <tr>\n",
       "      <th>mean</th>\n",
       "      <td>1.478047e+09</td>\n",
       "      <td>207.124697</td>\n",
       "      <td>51.103255</td>\n",
       "      <td>30.422879</td>\n",
       "      <td>75.016307</td>\n",
       "      <td>143.489821</td>\n",
       "      <td>6.243869</td>\n",
       "      <td>10.526066</td>\n",
       "      <td>15.825766</td>\n",
       "      <td>11.557425</td>\n",
       "      <td>27.556691</td>\n",
       "      <td>17.441902</td>\n",
       "      <td>27.640519</td>\n",
       "      <td>17.347886</td>\n",
       "      <td>37.317904</td>\n",
       "    </tr>\n",
       "    <tr>\n",
       "      <th>std</th>\n",
       "      <td>3.005037e+06</td>\n",
       "      <td>315.916387</td>\n",
       "      <td>6.201157</td>\n",
       "      <td>0.054673</td>\n",
       "      <td>25.990219</td>\n",
       "      <td>83.167500</td>\n",
       "      <td>3.490474</td>\n",
       "      <td>1.096691</td>\n",
       "      <td>8.711824</td>\n",
       "      <td>6.912034</td>\n",
       "      <td>17.268507</td>\n",
       "      <td>12.951109</td>\n",
       "      <td>15.518714</td>\n",
       "      <td>0.476307</td>\n",
       "      <td>15.938416</td>\n",
       "    </tr>\n",
       "    <tr>\n",
       "      <th>min</th>\n",
       "      <td>1.472724e+09</td>\n",
       "      <td>1.110000</td>\n",
       "      <td>34.000000</td>\n",
       "      <td>30.190000</td>\n",
       "      <td>8.000000</td>\n",
       "      <td>0.090000</td>\n",
       "      <td>0.000000</td>\n",
       "      <td>9.000000</td>\n",
       "      <td>1.000000</td>\n",
       "      <td>0.000000</td>\n",
       "      <td>0.000000</td>\n",
       "      <td>0.000000</td>\n",
       "      <td>7.000000</td>\n",
       "      <td>17.000000</td>\n",
       "      <td>0.000000</td>\n",
       "    </tr>\n",
       "    <tr>\n",
       "      <th>25%</th>\n",
       "      <td>1.475546e+09</td>\n",
       "      <td>1.230000</td>\n",
       "      <td>46.000000</td>\n",
       "      <td>30.400000</td>\n",
       "      <td>56.000000</td>\n",
       "      <td>82.227500</td>\n",
       "      <td>3.370000</td>\n",
       "      <td>10.000000</td>\n",
       "      <td>9.000000</td>\n",
       "      <td>6.000000</td>\n",
       "      <td>15.000000</td>\n",
       "      <td>5.000000</td>\n",
       "      <td>14.000000</td>\n",
       "      <td>17.000000</td>\n",
       "      <td>26.000000</td>\n",
       "    </tr>\n",
       "    <tr>\n",
       "      <th>50%</th>\n",
       "      <td>1.478026e+09</td>\n",
       "      <td>2.660000</td>\n",
       "      <td>50.000000</td>\n",
       "      <td>30.430000</td>\n",
       "      <td>85.000000</td>\n",
       "      <td>147.700000</td>\n",
       "      <td>5.620000</td>\n",
       "      <td>11.000000</td>\n",
       "      <td>16.000000</td>\n",
       "      <td>12.000000</td>\n",
       "      <td>30.000000</td>\n",
       "      <td>18.000000</td>\n",
       "      <td>24.000000</td>\n",
       "      <td>17.000000</td>\n",
       "      <td>43.000000</td>\n",
       "    </tr>\n",
       "    <tr>\n",
       "      <th>75%</th>\n",
       "      <td>1.480480e+09</td>\n",
       "      <td>354.235000</td>\n",
       "      <td>55.000000</td>\n",
       "      <td>30.460000</td>\n",
       "      <td>97.000000</td>\n",
       "      <td>179.310000</td>\n",
       "      <td>7.870000</td>\n",
       "      <td>11.000000</td>\n",
       "      <td>23.000000</td>\n",
       "      <td>18.000000</td>\n",
       "      <td>45.000000</td>\n",
       "      <td>22.000000</td>\n",
       "      <td>40.000000</td>\n",
       "      <td>18.000000</td>\n",
       "      <td>48.000000</td>\n",
       "    </tr>\n",
       "    <tr>\n",
       "      <th>max</th>\n",
       "      <td>1.483265e+09</td>\n",
       "      <td>1601.260000</td>\n",
       "      <td>71.000000</td>\n",
       "      <td>30.560000</td>\n",
       "      <td>103.000000</td>\n",
       "      <td>359.950000</td>\n",
       "      <td>40.500000</td>\n",
       "      <td>12.000000</td>\n",
       "      <td>31.000000</td>\n",
       "      <td>23.000000</td>\n",
       "      <td>57.000000</td>\n",
       "      <td>59.000000</td>\n",
       "      <td>57.000000</td>\n",
       "      <td>18.000000</td>\n",
       "      <td>59.000000</td>\n",
       "    </tr>\n",
       "  </tbody>\n",
       "</table>\n",
       "</div>"
      ],
      "text/plain": [
       "           UNIXTime     Radiation   Temperature      Pressure      Humidity  \\\n",
       "count  3.268600e+04  32686.000000  32686.000000  32686.000000  32686.000000   \n",
       "mean   1.478047e+09    207.124697     51.103255     30.422879     75.016307   \n",
       "std    3.005037e+06    315.916387      6.201157      0.054673     25.990219   \n",
       "min    1.472724e+09      1.110000     34.000000     30.190000      8.000000   \n",
       "25%    1.475546e+09      1.230000     46.000000     30.400000     56.000000   \n",
       "50%    1.478026e+09      2.660000     50.000000     30.430000     85.000000   \n",
       "75%    1.480480e+09    354.235000     55.000000     30.460000     97.000000   \n",
       "max    1.483265e+09   1601.260000     71.000000     30.560000    103.000000   \n",
       "\n",
       "       WindDirection(Degrees)         Speed         Month           Day  \\\n",
       "count            32686.000000  32686.000000  32686.000000  32686.000000   \n",
       "mean               143.489821      6.243869     10.526066     15.825766   \n",
       "std                 83.167500      3.490474      1.096691      8.711824   \n",
       "min                  0.090000      0.000000      9.000000      1.000000   \n",
       "25%                 82.227500      3.370000     10.000000      9.000000   \n",
       "50%                147.700000      5.620000     11.000000     16.000000   \n",
       "75%                179.310000      7.870000     11.000000     23.000000   \n",
       "max                359.950000     40.500000     12.000000     31.000000   \n",
       "\n",
       "               Hour        Minute        Second  SunriseMinute    SunsetHour  \\\n",
       "count  32686.000000  32686.000000  32686.000000   32686.000000  32686.000000   \n",
       "mean      11.557425     27.556691     17.441902      27.640519     17.347886   \n",
       "std        6.912034     17.268507     12.951109      15.518714      0.476307   \n",
       "min        0.000000      0.000000      0.000000       7.000000     17.000000   \n",
       "25%        6.000000     15.000000      5.000000      14.000000     17.000000   \n",
       "50%       12.000000     30.000000     18.000000      24.000000     17.000000   \n",
       "75%       18.000000     45.000000     22.000000      40.000000     18.000000   \n",
       "max       23.000000     57.000000     59.000000      57.000000     18.000000   \n",
       "\n",
       "       SunsetMinute  \n",
       "count  32686.000000  \n",
       "mean      37.317904  \n",
       "std       15.938416  \n",
       "min        0.000000  \n",
       "25%       26.000000  \n",
       "50%       43.000000  \n",
       "75%       48.000000  \n",
       "max       59.000000  "
      ]
     },
     "execution_count": 55,
     "metadata": {},
     "output_type": "execute_result"
    }
   ],
   "source": [
    "data.describe()"
   ]
  },
  {
   "cell_type": "code",
   "execution_count": 56,
   "metadata": {},
   "outputs": [
    {
     "data": {
      "image/png": "[encoded data removed]",
      "text/plain": [
       "<Figure size 1200x400 with 1 Axes>"
      ]
     },
     "metadata": {},
     "output_type": "display_data"
    }
   ],
   "source": [
    "plt.figure(figsize=(12,4))\n",
    "sns.heatmap(data.isnull(),cbar=False,cmap='viridis',yticklabels=False)\n",
    "plt.title('Missing value in the dataset');"
   ]
  },
  {
   "cell_type": "code",
   "execution_count": 57,
   "metadata": {},
   "outputs": [
    {
     "data": {
      "text/plain": [
       "<Axes: >"
      ]
     },
     "execution_count": 57,
     "metadata": {},
     "output_type": "execute_result"
    },
    {
     "data": {
      "image/png": "[encoded data removed]",
      "text/plain": [
       "<Figure size 640x480 with 2 Axes>"
      ]
     },
     "metadata": {},
     "output_type": "display_data"
    }
   ],
   "source": [
    "corr = data.corr() ## Correlation btwn data\n",
    "sns.heatmap(corr)"
   ]
  },
  {
   "cell_type": "code",
   "execution_count": 58,
   "metadata": {},
   "outputs": [
    {
     "data": {
      "image/png": "[encoded data removed]",
      "text/plain": [
       "<Figure size 1600x1600 with 16 Axes>"
      ]
     },
     "metadata": {},
     "output_type": "display_data"
    }
   ],
   "source": [
    "h = data.hist(bins=25,figsize=(16,16),xlabelsize='10',ylabelsize='10',xrot=-15)\n",
    "sns.despine(left=True, bottom=True)\n",
    "[x.title.set_size(12) for x in h.ravel()];\n",
    "[x.yaxis.tick_left() for x in h.ravel()];"
   ]
  },
  {
   "cell_type": "markdown",
   "metadata": {},
   "source": [
    "Model Bulding using Linear Regression"
   ]
  },
  {
   "cell_type": "code",
   "execution_count": 66,
   "metadata": {},
   "outputs": [
    {
     "data": {
      "text/html": [
       "<style>#sk-container-id-3 {color: black;}#sk-container-id-3 pre{padding: 0;}#sk-container-id-3 div.sk-toggleable {background-color: white;}#sk-container-id-3 label.sk-toggleable__label {cursor: pointer;display: block;width: 100%;margin-bottom: 0;padding: 0.3em;box-sizing: border-box;text-align: center;}#sk-container-id-3 label.sk-toggleable__label-arrow:before {content: \"▸\";float: left;margin-right: 0.25em;color: #696969;}#sk-container-id-3 label.sk-toggleable__label-arrow:hover:before {color: black;}#sk-container-id-3 div.sk-estimator:hover label.sk-toggleable__label-arrow:before {color: black;}#sk-container-id-3 div.sk-toggleable__content {max-height: 0;max-width: 0;overflow: hidden;text-align: left;background-color: #f0f8ff;}#sk-container-id-3 div.sk-toggleable__content pre {margin: 0.2em;color: black;border-radius: 0.25em;background-color: #f0f8ff;}#sk-container-id-3 input.sk-toggleable__control:checked~div.sk-toggleable__content {max-height: 200px;max-width: 100%;overflow: auto;}#sk-container-id-3 input.sk-toggleable__control:checked~label.sk-toggleable__label-arrow:before {content: \"▾\";}#sk-container-id-3 div.sk-estimator input.sk-toggleable__control:checked~label.sk-toggleable__label {background-color: #d4ebff;}#sk-container-id-3 div.sk-label input.sk-toggleable__control:checked~label.sk-toggleable__label {background-color: #d4ebff;}#sk-container-id-3 input.sk-hidden--visually {border: 0;clip: rect(1px 1px 1px 1px);clip: rect(1px, 1px, 1px, 1px);height: 1px;margin: -1px;overflow: hidden;padding: 0;position: absolute;width: 1px;}#sk-container-id-3 div.sk-estimator {font-family: monospace;background-color: #f0f8ff;border: 1px dotted black;border-radius: 0.25em;box-sizing: border-box;margin-bottom: 0.5em;}#sk-container-id-3 div.sk-estimator:hover {background-color: #d4ebff;}#sk-container-id-3 div.sk-parallel-item::after {content: \"\";width: 100%;border-bottom: 1px solid gray;flex-grow: 1;}#sk-container-id-3 div.sk-label:hover label.sk-toggleable__label {background-color: #d4ebff;}#sk-container-id-3 div.sk-serial::before {content: \"\";position: absolute;border-left: 1px solid gray;box-sizing: border-box;top: 0;bottom: 0;left: 50%;z-index: 0;}#sk-container-id-3 div.sk-serial {display: flex;flex-direction: column;align-items: center;background-color: white;padding-right: 0.2em;padding-left: 0.2em;position: relative;}#sk-container-id-3 div.sk-item {position: relative;z-index: 1;}#sk-container-id-3 div.sk-parallel {display: flex;align-items: stretch;justify-content: center;background-color: white;position: relative;}#sk-container-id-3 div.sk-item::before, #sk-container-id-3 div.sk-parallel-item::before {content: \"\";position: absolute;border-left: 1px solid gray;box-sizing: border-box;top: 0;bottom: 0;left: 50%;z-index: -1;}#sk-container-id-3 div.sk-parallel-item {display: flex;flex-direction: column;z-index: 1;position: relative;background-color: white;}#sk-container-id-3 div.sk-parallel-item:first-child::after {align-self: flex-end;width: 50%;}#sk-container-id-3 div.sk-parallel-item:last-child::after {align-self: flex-start;width: 50%;}#sk-container-id-3 div.sk-parallel-item:only-child::after {width: 0;}#sk-container-id-3 div.sk-dashed-wrapped {border: 1px dashed gray;margin: 0 0.4em 0.5em 0.4em;box-sizing: border-box;padding-bottom: 0.4em;background-color: white;}#sk-container-id-3 div.sk-label label {font-family: monospace;font-weight: bold;display: inline-block;line-height: 1.2em;}#sk-container-id-3 div.sk-label-container {text-align: center;}#sk-container-id-3 div.sk-container {/* jupyter's `normalize.less` sets `[hidden] { display: none; }` but bootstrap.min.css set `[hidden] { display: none !important; }` so we also need the `!important` here to be able to override the default hidden behavior on the sphinx rendered scikit-learn.org. See: https://github.com/scikit-learn/scikit-learn/issues/21755 */display: inline-block !important;position: relative;}#sk-container-id-3 div.sk-text-repr-fallback {display: none;}</style><div id=\"sk-container-id-3\" class=\"sk-top-container\"><div class=\"sk-text-repr-fallback\"><pre>LinearRegression()</pre><b>In a Jupyter environment, please rerun this cell to show the HTML representation or trust the notebook. <br />On GitHub, the HTML representation is unable to render, please try loading this page with nbviewer.org.</b></div><div class=\"sk-container\" hidden><div class=\"sk-item\"><div class=\"sk-estimator sk-toggleable\"><input class=\"sk-toggleable__control sk-hidden--visually\" id=\"sk-estimator-id-3\" type=\"checkbox\" checked><label for=\"sk-estimator-id-3\" class=\"sk-toggleable__label sk-toggleable__label-arrow\">LinearRegression</label><div class=\"sk-toggleable__content\"><pre>LinearRegression()</pre></div></div></div></div></div>"
      ],
      "text/plain": [
       "LinearRegression()"
      ]
     },
     "execution_count": 66,
     "metadata": {},
     "output_type": "execute_result"
    }
   ],
   "source": [
    "from sklearn.linear_model import LinearRegression \n",
    "\n",
    "Xlr = X_train\n",
    "Ylr = Y_train\n",
    "Xts= X_test\n",
    "Yts= Y_test\n",
    "\n",
    "lmodel = LinearRegression() \n",
    "lmodel.fit(Xlr,Ylr)"
   ]
  },
  {
   "cell_type": "code",
   "execution_count": 67,
   "metadata": {},
   "outputs": [
    {
     "name": "stdout",
     "output_type": "stream",
     "text": [
      "R square obtain for normal equation method is : 0.6313621786543395\n"
     ]
    }
   ],
   "source": [
    "predicts = lmodel.predict(Xts)\n",
    "\n",
    "### R_square \n",
    "sse = np.sum((predicts - Yts)**2)\n",
    "sst = np.sum((Yts - Yts.mean())**2)\n",
    "R_square = 1 - (sse/sst)\n",
    "print('R square obtain for normal equation method is :',R_square)"
   ]
  },
  {
   "cell_type": "code",
   "execution_count": 75,
   "metadata": {},
   "outputs": [
    {
     "data": {
      "text/plain": [
       "<matplotlib.collections.PathCollection at 0x19f238ace50>"
      ]
     },
     "execution_count": 75,
     "metadata": {},
     "output_type": "execute_result"
    },
    {
     "data": {
      "image/png": "[encoded data removed]",
      "text/plain": [
       "<Figure size 640x480 with 1 Axes>"
      ]
     },
     "metadata": {},
     "output_type": "display_data"
    }
   ],
   "source": [
    "# Scattering of Linear Regression (Blue)\n",
    "plt.scatter(Yts,predicts)\n",
    "\n",
    "## Scattering of predictions having used previously our D-Matrix Model (Orange)\n",
    "plt.scatter(Y_test,Y_pred)"
   ]
  },
  {
   "cell_type": "code",
   "execution_count": 77,
   "metadata": {},
   "outputs": [
    {
     "data": {
      "text/plain": [
       "<seaborn.axisgrid.FacetGrid at 0x19f23b49290>"
      ]
     },
     "execution_count": 77,
     "metadata": {},
     "output_type": "execute_result"
    },
    {
     "data": {
      "image/png": "[encoded data removed]",
      "text/plain": [
       "<Figure size 616x500 with 1 Axes>"
      ]
     },
     "metadata": {},
     "output_type": "display_data"
    },
    {
     "data": {
      "image/png": "[encoded data removed]",
      "text/plain": [
       "<Figure size 500x500 with 1 Axes>"
      ]
     },
     "metadata": {},
     "output_type": "display_data"
    }
   ],
   "source": [
    "sns.displot((Y_test,Y_pred))\n",
    "sns.displot((Yts-predicts))"
   ]
  },
  {
   "cell_type": "code",
   "execution_count": 64,
   "metadata": {},
   "outputs": [],
   "source": [
    "## pd.DataFrame(X)"
   ]
  }
 ],
 "metadata": {
  "kernelspec": {
   "display_name": "datos",
   "language": "python",
   "name": "python3"
  },
  "language_info": {
   "codemirror_mode": {
    "name": "ipython",
    "version": 3
   },
   "file_extension": ".py",
   "mimetype": "text/x-python",
   "name": "python",
   "nbconvert_exporter": "python",
   "pygments_lexer": "ipython3",
   "version": "3.11.5"
  }
 },
 "nbformat": 4,
 "nbformat_minor": 2
}
