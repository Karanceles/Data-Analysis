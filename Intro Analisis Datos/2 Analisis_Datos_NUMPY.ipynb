{
 "cells": [
  {
   "cell_type": "code",
   "execution_count": 2,
   "metadata": {},
   "outputs": [],
   "source": [
    "import numpy as np"
   ]
  },
  {
   "cell_type": "code",
   "execution_count": 3,
   "metadata": {},
   "outputs": [
    {
     "name": "stdout",
     "output_type": "stream",
     "text": [
      "Arreglo 1a:  [1 2 3 4 5 6]\n",
      "Forma(shape):  (6,)\n",
      "Tipo de dato(dtype):  int32\n"
     ]
    }
   ],
   "source": [
    "# crear arreglo de 1D con 5 elementos\n",
    "arr1 = np.array([1,2,3,4,5,6])\n",
    "\n",
    "print(\"Arreglo 1a: \", arr1)\n",
    "print(\"Forma(shape): \", arr1.shape) # N° dimensiones\n",
    "print(\"Tipo de dato(dtype): \", arr1.dtype)"
   ]
  },
  {
   "cell_type": "code",
   "execution_count": 4,
   "metadata": {},
   "outputs": [
    {
     "name": "stdout",
     "output_type": "stream",
     "text": [
      "Arreglo 2a:  [[1 2 3]\n",
      " [4 5 6]]\n",
      "Forma(shape):  (2, 3)\n",
      "Tipo de dato(dtype):  int32\n"
     ]
    }
   ],
   "source": [
    "# Cambiar la forma del arrgelo a una matriz 2x3\n",
    "\n",
    "arr2 = arr1.reshape((2,3))\n",
    "print(\"Arreglo 2a: \", arr2)\n",
    "print(\"Forma(shape): \", arr2.shape)\n",
    "print(\"Tipo de dato(dtype): \", arr2.dtype)"
   ]
  },
  {
   "cell_type": "code",
   "execution_count": 5,
   "metadata": {},
   "outputs": [
    {
     "name": "stdout",
     "output_type": "stream",
     "text": [
      "Arreglo 2a:  [[0.12162284 0.56507473 0.97474346 0.67360104]\n",
      " [0.3751715  0.40411871 0.04702015 0.3319824 ]\n",
      " [0.86913493 0.25231643 0.26258002 0.85155401]\n",
      " [0.17397052 0.14834279 0.7458101  0.85203141]]\n",
      "Forma(shape):  (4, 4)\n",
      "Tipo de dato(dtype):  float64\n"
     ]
    }
   ],
   "source": [
    "# Crear una matriz random con forma (4,4) y numeros aleatorios entre 0 y 1.\n",
    "matrix = np.random.rand(4,4)\n",
    "print(\"Arreglo 2a: \", matrix)\n",
    "print(\"Forma(shape): \", matrix.shape)\n",
    "print(\"Tipo de dato(dtype): \", matrix.dtype)"
   ]
  },
  {
   "cell_type": "code",
   "execution_count": 7,
   "metadata": {},
   "outputs": [
    {
     "name": "stdout",
     "output_type": "stream",
     "text": [
      "[[1 2 3]\n",
      " [4 5 6]\n",
      " [7 8 9]] <class 'numpy.ndarray'>\n"
     ]
    }
   ],
   "source": [
    "# Crear un arreglo de 2D a partir de una lista de listas\n",
    "\n",
    "arr = np.array([[1,2,3],[4,5,6],[7,8,9]])\n",
    "print(arr, type(arr))"
   ]
  },
  {
   "cell_type": "code",
   "execution_count": 11,
   "metadata": {},
   "outputs": [
    {
     "name": "stdout",
     "output_type": "stream",
     "text": [
      "[[ 0.  0.  0.  0.]\n",
      " [ 0.  0. 10.  0.]\n",
      " [ 0.  0.  0.  0.]]\n"
     ]
    }
   ],
   "source": [
    "# Crear un arreglo de ceros/unos con una forma (3,4)\n",
    "arr = np.zeros((3,4)) # np.ones((3,4))\n",
    "\n",
    "# point and change certains values\n",
    "arr[1,2] = 10\n",
    "\n",
    "print(arr)"
   ]
  },
  {
   "cell_type": "code",
   "execution_count": 12,
   "metadata": {},
   "outputs": [
    {
     "name": "stdout",
     "output_type": "stream",
     "text": [
      "[[1. 0. 0. 0.]\n",
      " [0. 1. 0. 0.]\n",
      " [0. 0. 1. 0.]\n",
      " [0. 0. 0. 1.]]\n"
     ]
    }
   ],
   "source": [
    "# Crear una matriz identidad\n",
    "arr = np.eye(4)\n",
    "print(arr)\n"
   ]
  },
  {
   "cell_type": "code",
   "execution_count": 13,
   "metadata": {},
   "outputs": [
    {
     "data": {
      "text/plain": [
       "array([[[0., 0., 0., 0.],\n",
       "        [0., 0., 0., 0.],\n",
       "        [0., 0., 0., 0.]],\n",
       "\n",
       "       [[0., 0., 0., 0.],\n",
       "        [0., 0., 0., 0.],\n",
       "        [0., 0., 0., 0.]]])"
      ]
     },
     "execution_count": 13,
     "metadata": {},
     "output_type": "execute_result"
    }
   ],
   "source": [
    "# Create a 3D zero-matrix arrange with a (2,3,4) shape\n",
    "arr = np.zeros((2,3,4)) # multidimentional\n",
    "arr"
   ]
  },
  {
   "cell_type": "code",
   "execution_count": 16,
   "metadata": {},
   "outputs": [
    {
     "data": {
      "text/plain": [
       "array([[0.99653553, 0.33560516, 0.48978114, 0.59420892, 0.79796935],\n",
       "       [0.25871413, 0.07786727, 0.78283865, 0.69561015, 0.00699666]])"
      ]
     },
     "execution_count": 16,
     "metadata": {},
     "output_type": "execute_result"
    }
   ],
   "source": [
    "# randomize 2,5 matrix\n",
    "arr = np.random.rand(2,5)\n",
    "arr"
   ]
  },
  {
   "cell_type": "code",
   "execution_count": 17,
   "metadata": {},
   "outputs": [
    {
     "data": {
      "text/plain": [
       "array([[0.99653553, 0.25871413],\n",
       "       [0.33560516, 0.07786727],\n",
       "       [0.48978114, 0.78283865],\n",
       "       [0.59420892, 0.69561015],\n",
       "       [0.79796935, 0.00699666]])"
      ]
     },
     "execution_count": 17,
     "metadata": {},
     "output_type": "execute_result"
    }
   ],
   "source": [
    "# wanna transpose ?\n",
    "arr.T"
   ]
  },
  {
   "cell_type": "code",
   "execution_count": 18,
   "metadata": {},
   "outputs": [
    {
     "data": {
      "text/plain": [
       "(array([[1, 2],\n",
       "        [3, 4]]),\n",
       " array([[5, 6],\n",
       "        [7, 8]]))"
      ]
     },
     "execution_count": 18,
     "metadata": {},
     "output_type": "execute_result"
    }
   ],
   "source": [
    "# for concatening\n",
    "\n",
    "arr1 = np.array([[1,2], [3,4]])\n",
    "arr2 = np.array([[5,6], [7,8]])\n",
    "arr1, arr2"
   ]
  },
  {
   "cell_type": "code",
   "execution_count": 19,
   "metadata": {},
   "outputs": [
    {
     "data": {
      "text/plain": [
       "array([[1, 2, 5, 6],\n",
       "       [3, 4, 7, 8]])"
      ]
     },
     "execution_count": 19,
     "metadata": {},
     "output_type": "execute_result"
    }
   ],
   "source": [
    "# concatening rows w/ r and columns w/ c, depending on the case (hztly or verticaly)\n",
    "arr_h = np.hstack((arr1,arr2))\n",
    "arr_h # HORIZONTALY Stacked"
   ]
  },
  {
   "cell_type": "code",
   "execution_count": 20,
   "metadata": {},
   "outputs": [
    {
     "data": {
      "text/plain": [
       "array([[1, 2],\n",
       "       [3, 4],\n",
       "       [5, 6],\n",
       "       [7, 8]])"
      ]
     },
     "execution_count": 20,
     "metadata": {},
     "output_type": "execute_result"
    }
   ],
   "source": [
    "# VERTICALY Stacked\n",
    "arr_v = np.vstack((arr1,arr2))\n",
    "arr_v"
   ]
  }
 ],
 "metadata": {
  "kernelspec": {
   "display_name": "datos",
   "language": "python",
   "name": "python3"
  },
  "language_info": {
   "codemirror_mode": {
    "name": "ipython",
    "version": 3
   },
   "file_extension": ".py",
   "mimetype": "text/x-python",
   "name": "python",
   "nbconvert_exporter": "python",
   "pygments_lexer": "ipython3",
   "version": "3.11.5"
  }
 },
 "nbformat": 4,
 "nbformat_minor": 2
}
